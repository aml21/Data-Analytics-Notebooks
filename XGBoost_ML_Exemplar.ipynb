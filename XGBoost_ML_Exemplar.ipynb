{
  "nbformat": 4,
  "nbformat_minor": 0,
  "metadata": {
    "colab": {
      "provenance": [],
      "authorship_tag": "ABX9TyNaGhQZTnnL1D5ajwaCG1ym",
      "include_colab_link": true
    },
    "kernelspec": {
      "name": "python3",
      "display_name": "Python 3"
    },
    "language_info": {
      "name": "python"
    }
  },
  "cells": [
    {
      "cell_type": "markdown",
      "metadata": {
        "id": "view-in-github",
        "colab_type": "text"
      },
      "source": [
        "<a href=\"https://colab.research.google.com/github/aml21/Data-Analytics-Notebooks/blob/main/XGBoost_ML_Exemplar.ipynb\" target=\"_parent\"><img src=\"https://colab.research.google.com/assets/colab-badge.svg\" alt=\"Open In Colab\"/></a>"
      ]
    },
    {
      "cell_type": "markdown",
      "source": [
        "# Build an XGBoost model with Python\n",
        "\n",
        "## 1 XGBoost tuning\n",
        "\n",
        "Throughout the following exercises, you will learn to use Python to construct and interpret an XGBoost classification model using the XGBoost modeling library. Before starting on this pro\n",
        "gramming exercise, we strongly recommend watching the video lecture and completing the IVQ for\n",
        "the associated topics.\n",
        "\n",
        "All the information you need for solving this assignment is in this notebook, and all the code you\n",
        "will be implementing will take place within this notebook.\n",
        "\n",
        "Topics of focus include:\n",
        "\n",
        "    • Relevant import statements\n",
        "    • Fitting a model\n",
        "    • Using GridSearchCV to cross-validate the model and tune the following hyperparameters:\n",
        "      – max_depth\n",
        "      – min_child_weight\n",
        "      – learning_rate\n",
        "      – n_estimators\n",
        "    • Model evaluation using precision, recall, and F1 score\n",
        "    • Examining feature importance\n",
        "\n",
        " As we move forward, you can find instructions on how to install required libraries as they arise in\n",
        " this notebook."
      ],
      "metadata": {
        "id": "wl8E6HLr5iQC"
      }
    },
    {
      "cell_type": "markdown",
      "source": [
        " ### 1.1 Review\n",
        "\n",
        " This notebook is a continuation of the bank churn project. Below is a recap of the considerations\n",
        " and decisions that we’ve already made. For detailed discussion of these topics, refer back to the\n",
        " fully annotated notebook for the decision tree model.\n",
        "\n",
        "    Modeling objective: To predict whether a customer will churn—a binary classification task\n",
        "    Target variable: Exited column—0 or 1\n",
        "    Class balance: The data is imbalanced 80/20 (not churned/churned), but we will not perform class balancing.\n",
        "    Primary evaluation metric: F1 score\n",
        "    Modeling workflow and model selection: The champion model will be the model with the best validation F1 score. Only the champion model will be used to predict on the test data. See the Section ?? for details and limitations of this approach."
      ],
      "metadata": {
        "id": "tuaQe7r96T8j"
      }
    },
    {
      "cell_type": "markdown",
      "source": [
        " ### 1.2 Import statements\n",
        "\n",
        " Before we begin with the exercises and analyzing the data, we need to import all libraries and\n",
        " extensions required for this programming exercise. Throughout the course, we will be using numpy\n",
        " and pandas for operations, and matplotlib for plotting."
      ],
      "metadata": {
        "id": "htRhUu2m6X1d"
      }
    },
    {
      "cell_type": "code",
      "source": [
        "import numpy as np\n",
        "import pandas as pd\n",
        "# This is the classifier\n",
        "from xgboost import XGBClassifier\n",
        "\n",
        "# This is the function that helps plot feature importance\n",
        "from xgboost import plot_importance\n",
        "from sklearn.model_selection import GridSearchCV, train_test_split\n",
        "from sklearn.metrics import accuracy_score, precision_score, recall_score,\\\n",
        "f1_score, confusion_matrix, ConfusionMatrixDisplay, RocCurveDisplay\n",
        "import matplotlib.pyplot as plt\n",
        "\n",
        "# This displays all of the columns, preventing Juptyer from redacting them.\n",
        "pd.set_option('display.max_columns', None)\n",
        "\n",
        "# This module lets us save our models once we fit them.\n",
        "import pickle"
      ],
      "metadata": {
        "id": "ow8BGPuQ7L42"
      },
      "execution_count": 12,
      "outputs": []
    },
    {
      "cell_type": "markdown",
      "source": [
        " ### 1.3 Read in the data"
      ],
      "metadata": {
        "id": "o1BeD96M7V5l"
      }
    },
    {
      "cell_type": "code",
      "source": [
        "# Read in data\n",
        "file = 'Churn_Modelling.csv'\n",
        "df_original = pd.read_csv(file)\n",
        "df_original.head()"
      ],
      "metadata": {
        "id": "HR-sZDlq7aJj",
        "colab": {
          "base_uri": "https://localhost:8080/",
          "height": 226
        },
        "outputId": "85e3cace-8342-433e-ecd4-ccbcb339f240"
      },
      "execution_count": 13,
      "outputs": [
        {
          "output_type": "execute_result",
          "data": {
            "text/plain": [
              "   RowNumber  CustomerId   Surname  CreditScore Geography  Gender  Age  \\\n",
              "0          1    15634602  Hargrave          619    France  Female   42   \n",
              "1          2    15647311      Hill          608     Spain  Female   41   \n",
              "2          3    15619304      Onio          502    France  Female   42   \n",
              "3          4    15701354      Boni          699    France  Female   39   \n",
              "4          5    15737888  Mitchell          850     Spain  Female   43   \n",
              "\n",
              "   Tenure    Balance  NumOfProducts  HasCrCard  IsActiveMember  \\\n",
              "0       2       0.00              1          1               1   \n",
              "1       1   83807.86              1          0               1   \n",
              "2       8  159660.80              3          1               0   \n",
              "3       1       0.00              2          0               0   \n",
              "4       2  125510.82              1          1               1   \n",
              "\n",
              "   EstimatedSalary  Exited  \n",
              "0        101348.88       1  \n",
              "1        112542.58       0  \n",
              "2        113931.57       1  \n",
              "3         93826.63       0  \n",
              "4         79084.10       0  "
            ],
            "text/html": [
              "\n",
              "  <div id=\"df-6056119c-6554-492e-b330-7598566276c7\" class=\"colab-df-container\">\n",
              "    <div>\n",
              "<style scoped>\n",
              "    .dataframe tbody tr th:only-of-type {\n",
              "        vertical-align: middle;\n",
              "    }\n",
              "\n",
              "    .dataframe tbody tr th {\n",
              "        vertical-align: top;\n",
              "    }\n",
              "\n",
              "    .dataframe thead th {\n",
              "        text-align: right;\n",
              "    }\n",
              "</style>\n",
              "<table border=\"1\" class=\"dataframe\">\n",
              "  <thead>\n",
              "    <tr style=\"text-align: right;\">\n",
              "      <th></th>\n",
              "      <th>RowNumber</th>\n",
              "      <th>CustomerId</th>\n",
              "      <th>Surname</th>\n",
              "      <th>CreditScore</th>\n",
              "      <th>Geography</th>\n",
              "      <th>Gender</th>\n",
              "      <th>Age</th>\n",
              "      <th>Tenure</th>\n",
              "      <th>Balance</th>\n",
              "      <th>NumOfProducts</th>\n",
              "      <th>HasCrCard</th>\n",
              "      <th>IsActiveMember</th>\n",
              "      <th>EstimatedSalary</th>\n",
              "      <th>Exited</th>\n",
              "    </tr>\n",
              "  </thead>\n",
              "  <tbody>\n",
              "    <tr>\n",
              "      <th>0</th>\n",
              "      <td>1</td>\n",
              "      <td>15634602</td>\n",
              "      <td>Hargrave</td>\n",
              "      <td>619</td>\n",
              "      <td>France</td>\n",
              "      <td>Female</td>\n",
              "      <td>42</td>\n",
              "      <td>2</td>\n",
              "      <td>0.00</td>\n",
              "      <td>1</td>\n",
              "      <td>1</td>\n",
              "      <td>1</td>\n",
              "      <td>101348.88</td>\n",
              "      <td>1</td>\n",
              "    </tr>\n",
              "    <tr>\n",
              "      <th>1</th>\n",
              "      <td>2</td>\n",
              "      <td>15647311</td>\n",
              "      <td>Hill</td>\n",
              "      <td>608</td>\n",
              "      <td>Spain</td>\n",
              "      <td>Female</td>\n",
              "      <td>41</td>\n",
              "      <td>1</td>\n",
              "      <td>83807.86</td>\n",
              "      <td>1</td>\n",
              "      <td>0</td>\n",
              "      <td>1</td>\n",
              "      <td>112542.58</td>\n",
              "      <td>0</td>\n",
              "    </tr>\n",
              "    <tr>\n",
              "      <th>2</th>\n",
              "      <td>3</td>\n",
              "      <td>15619304</td>\n",
              "      <td>Onio</td>\n",
              "      <td>502</td>\n",
              "      <td>France</td>\n",
              "      <td>Female</td>\n",
              "      <td>42</td>\n",
              "      <td>8</td>\n",
              "      <td>159660.80</td>\n",
              "      <td>3</td>\n",
              "      <td>1</td>\n",
              "      <td>0</td>\n",
              "      <td>113931.57</td>\n",
              "      <td>1</td>\n",
              "    </tr>\n",
              "    <tr>\n",
              "      <th>3</th>\n",
              "      <td>4</td>\n",
              "      <td>15701354</td>\n",
              "      <td>Boni</td>\n",
              "      <td>699</td>\n",
              "      <td>France</td>\n",
              "      <td>Female</td>\n",
              "      <td>39</td>\n",
              "      <td>1</td>\n",
              "      <td>0.00</td>\n",
              "      <td>2</td>\n",
              "      <td>0</td>\n",
              "      <td>0</td>\n",
              "      <td>93826.63</td>\n",
              "      <td>0</td>\n",
              "    </tr>\n",
              "    <tr>\n",
              "      <th>4</th>\n",
              "      <td>5</td>\n",
              "      <td>15737888</td>\n",
              "      <td>Mitchell</td>\n",
              "      <td>850</td>\n",
              "      <td>Spain</td>\n",
              "      <td>Female</td>\n",
              "      <td>43</td>\n",
              "      <td>2</td>\n",
              "      <td>125510.82</td>\n",
              "      <td>1</td>\n",
              "      <td>1</td>\n",
              "      <td>1</td>\n",
              "      <td>79084.10</td>\n",
              "      <td>0</td>\n",
              "    </tr>\n",
              "  </tbody>\n",
              "</table>\n",
              "</div>\n",
              "    <div class=\"colab-df-buttons\">\n",
              "\n",
              "  <div class=\"colab-df-container\">\n",
              "    <button class=\"colab-df-convert\" onclick=\"convertToInteractive('df-6056119c-6554-492e-b330-7598566276c7')\"\n",
              "            title=\"Convert this dataframe to an interactive table.\"\n",
              "            style=\"display:none;\">\n",
              "\n",
              "  <svg xmlns=\"http://www.w3.org/2000/svg\" height=\"24px\" viewBox=\"0 -960 960 960\">\n",
              "    <path d=\"M120-120v-720h720v720H120Zm60-500h600v-160H180v160Zm220 220h160v-160H400v160Zm0 220h160v-160H400v160ZM180-400h160v-160H180v160Zm440 0h160v-160H620v160ZM180-180h160v-160H180v160Zm440 0h160v-160H620v160Z\"/>\n",
              "  </svg>\n",
              "    </button>\n",
              "\n",
              "  <style>\n",
              "    .colab-df-container {\n",
              "      display:flex;\n",
              "      gap: 12px;\n",
              "    }\n",
              "\n",
              "    .colab-df-convert {\n",
              "      background-color: #E8F0FE;\n",
              "      border: none;\n",
              "      border-radius: 50%;\n",
              "      cursor: pointer;\n",
              "      display: none;\n",
              "      fill: #1967D2;\n",
              "      height: 32px;\n",
              "      padding: 0 0 0 0;\n",
              "      width: 32px;\n",
              "    }\n",
              "\n",
              "    .colab-df-convert:hover {\n",
              "      background-color: #E2EBFA;\n",
              "      box-shadow: 0px 1px 2px rgba(60, 64, 67, 0.3), 0px 1px 3px 1px rgba(60, 64, 67, 0.15);\n",
              "      fill: #174EA6;\n",
              "    }\n",
              "\n",
              "    .colab-df-buttons div {\n",
              "      margin-bottom: 4px;\n",
              "    }\n",
              "\n",
              "    [theme=dark] .colab-df-convert {\n",
              "      background-color: #3B4455;\n",
              "      fill: #D2E3FC;\n",
              "    }\n",
              "\n",
              "    [theme=dark] .colab-df-convert:hover {\n",
              "      background-color: #434B5C;\n",
              "      box-shadow: 0px 1px 3px 1px rgba(0, 0, 0, 0.15);\n",
              "      filter: drop-shadow(0px 1px 2px rgba(0, 0, 0, 0.3));\n",
              "      fill: #FFFFFF;\n",
              "    }\n",
              "  </style>\n",
              "\n",
              "    <script>\n",
              "      const buttonEl =\n",
              "        document.querySelector('#df-6056119c-6554-492e-b330-7598566276c7 button.colab-df-convert');\n",
              "      buttonEl.style.display =\n",
              "        google.colab.kernel.accessAllowed ? 'block' : 'none';\n",
              "\n",
              "      async function convertToInteractive(key) {\n",
              "        const element = document.querySelector('#df-6056119c-6554-492e-b330-7598566276c7');\n",
              "        const dataTable =\n",
              "          await google.colab.kernel.invokeFunction('convertToInteractive',\n",
              "                                                    [key], {});\n",
              "        if (!dataTable) return;\n",
              "\n",
              "        const docLinkHtml = 'Like what you see? Visit the ' +\n",
              "          '<a target=\"_blank\" href=https://colab.research.google.com/notebooks/data_table.ipynb>data table notebook</a>'\n",
              "          + ' to learn more about interactive tables.';\n",
              "        element.innerHTML = '';\n",
              "        dataTable['output_type'] = 'display_data';\n",
              "        await google.colab.output.renderOutput(dataTable, element);\n",
              "        const docLink = document.createElement('div');\n",
              "        docLink.innerHTML = docLinkHtml;\n",
              "        element.appendChild(docLink);\n",
              "      }\n",
              "    </script>\n",
              "  </div>\n",
              "\n",
              "\n",
              "    <div id=\"df-ccc7b9fc-bdee-4a55-b7aa-91696b870123\">\n",
              "      <button class=\"colab-df-quickchart\" onclick=\"quickchart('df-ccc7b9fc-bdee-4a55-b7aa-91696b870123')\"\n",
              "                title=\"Suggest charts\"\n",
              "                style=\"display:none;\">\n",
              "\n",
              "<svg xmlns=\"http://www.w3.org/2000/svg\" height=\"24px\"viewBox=\"0 0 24 24\"\n",
              "     width=\"24px\">\n",
              "    <g>\n",
              "        <path d=\"M19 3H5c-1.1 0-2 .9-2 2v14c0 1.1.9 2 2 2h14c1.1 0 2-.9 2-2V5c0-1.1-.9-2-2-2zM9 17H7v-7h2v7zm4 0h-2V7h2v10zm4 0h-2v-4h2v4z\"/>\n",
              "    </g>\n",
              "</svg>\n",
              "      </button>\n",
              "\n",
              "<style>\n",
              "  .colab-df-quickchart {\n",
              "      --bg-color: #E8F0FE;\n",
              "      --fill-color: #1967D2;\n",
              "      --hover-bg-color: #E2EBFA;\n",
              "      --hover-fill-color: #174EA6;\n",
              "      --disabled-fill-color: #AAA;\n",
              "      --disabled-bg-color: #DDD;\n",
              "  }\n",
              "\n",
              "  [theme=dark] .colab-df-quickchart {\n",
              "      --bg-color: #3B4455;\n",
              "      --fill-color: #D2E3FC;\n",
              "      --hover-bg-color: #434B5C;\n",
              "      --hover-fill-color: #FFFFFF;\n",
              "      --disabled-bg-color: #3B4455;\n",
              "      --disabled-fill-color: #666;\n",
              "  }\n",
              "\n",
              "  .colab-df-quickchart {\n",
              "    background-color: var(--bg-color);\n",
              "    border: none;\n",
              "    border-radius: 50%;\n",
              "    cursor: pointer;\n",
              "    display: none;\n",
              "    fill: var(--fill-color);\n",
              "    height: 32px;\n",
              "    padding: 0;\n",
              "    width: 32px;\n",
              "  }\n",
              "\n",
              "  .colab-df-quickchart:hover {\n",
              "    background-color: var(--hover-bg-color);\n",
              "    box-shadow: 0 1px 2px rgba(60, 64, 67, 0.3), 0 1px 3px 1px rgba(60, 64, 67, 0.15);\n",
              "    fill: var(--button-hover-fill-color);\n",
              "  }\n",
              "\n",
              "  .colab-df-quickchart-complete:disabled,\n",
              "  .colab-df-quickchart-complete:disabled:hover {\n",
              "    background-color: var(--disabled-bg-color);\n",
              "    fill: var(--disabled-fill-color);\n",
              "    box-shadow: none;\n",
              "  }\n",
              "\n",
              "  .colab-df-spinner {\n",
              "    border: 2px solid var(--fill-color);\n",
              "    border-color: transparent;\n",
              "    border-bottom-color: var(--fill-color);\n",
              "    animation:\n",
              "      spin 1s steps(1) infinite;\n",
              "  }\n",
              "\n",
              "  @keyframes spin {\n",
              "    0% {\n",
              "      border-color: transparent;\n",
              "      border-bottom-color: var(--fill-color);\n",
              "      border-left-color: var(--fill-color);\n",
              "    }\n",
              "    20% {\n",
              "      border-color: transparent;\n",
              "      border-left-color: var(--fill-color);\n",
              "      border-top-color: var(--fill-color);\n",
              "    }\n",
              "    30% {\n",
              "      border-color: transparent;\n",
              "      border-left-color: var(--fill-color);\n",
              "      border-top-color: var(--fill-color);\n",
              "      border-right-color: var(--fill-color);\n",
              "    }\n",
              "    40% {\n",
              "      border-color: transparent;\n",
              "      border-right-color: var(--fill-color);\n",
              "      border-top-color: var(--fill-color);\n",
              "    }\n",
              "    60% {\n",
              "      border-color: transparent;\n",
              "      border-right-color: var(--fill-color);\n",
              "    }\n",
              "    80% {\n",
              "      border-color: transparent;\n",
              "      border-right-color: var(--fill-color);\n",
              "      border-bottom-color: var(--fill-color);\n",
              "    }\n",
              "    90% {\n",
              "      border-color: transparent;\n",
              "      border-bottom-color: var(--fill-color);\n",
              "    }\n",
              "  }\n",
              "</style>\n",
              "\n",
              "      <script>\n",
              "        async function quickchart(key) {\n",
              "          const quickchartButtonEl =\n",
              "            document.querySelector('#' + key + ' button');\n",
              "          quickchartButtonEl.disabled = true;  // To prevent multiple clicks.\n",
              "          quickchartButtonEl.classList.add('colab-df-spinner');\n",
              "          try {\n",
              "            const charts = await google.colab.kernel.invokeFunction(\n",
              "                'suggestCharts', [key], {});\n",
              "          } catch (error) {\n",
              "            console.error('Error during call to suggestCharts:', error);\n",
              "          }\n",
              "          quickchartButtonEl.classList.remove('colab-df-spinner');\n",
              "          quickchartButtonEl.classList.add('colab-df-quickchart-complete');\n",
              "        }\n",
              "        (() => {\n",
              "          let quickchartButtonEl =\n",
              "            document.querySelector('#df-ccc7b9fc-bdee-4a55-b7aa-91696b870123 button');\n",
              "          quickchartButtonEl.style.display =\n",
              "            google.colab.kernel.accessAllowed ? 'block' : 'none';\n",
              "        })();\n",
              "      </script>\n",
              "    </div>\n",
              "\n",
              "    </div>\n",
              "  </div>\n"
            ],
            "application/vnd.google.colaboratory.intrinsic+json": {
              "type": "dataframe",
              "variable_name": "df_original",
              "summary": "{\n  \"name\": \"df_original\",\n  \"rows\": 10000,\n  \"fields\": [\n    {\n      \"column\": \"RowNumber\",\n      \"properties\": {\n        \"dtype\": \"number\",\n        \"std\": 2886,\n        \"min\": 1,\n        \"max\": 10000,\n        \"num_unique_values\": 10000,\n        \"samples\": [\n          6253,\n          4685,\n          1732\n        ],\n        \"semantic_type\": \"\",\n        \"description\": \"\"\n      }\n    },\n    {\n      \"column\": \"CustomerId\",\n      \"properties\": {\n        \"dtype\": \"number\",\n        \"std\": 71936,\n        \"min\": 15565701,\n        \"max\": 15815690,\n        \"num_unique_values\": 10000,\n        \"samples\": [\n          15687492,\n          15736963,\n          15721730\n        ],\n        \"semantic_type\": \"\",\n        \"description\": \"\"\n      }\n    },\n    {\n      \"column\": \"Surname\",\n      \"properties\": {\n        \"dtype\": \"category\",\n        \"num_unique_values\": 2932,\n        \"samples\": [\n          \"McGuirk\",\n          \"Torkelson\",\n          \"Rapuluchukwu\"\n        ],\n        \"semantic_type\": \"\",\n        \"description\": \"\"\n      }\n    },\n    {\n      \"column\": \"CreditScore\",\n      \"properties\": {\n        \"dtype\": \"number\",\n        \"std\": 96,\n        \"min\": 350,\n        \"max\": 850,\n        \"num_unique_values\": 460,\n        \"samples\": [\n          754,\n          533,\n          744\n        ],\n        \"semantic_type\": \"\",\n        \"description\": \"\"\n      }\n    },\n    {\n      \"column\": \"Geography\",\n      \"properties\": {\n        \"dtype\": \"category\",\n        \"num_unique_values\": 3,\n        \"samples\": [\n          \"France\",\n          \"Spain\",\n          \"Germany\"\n        ],\n        \"semantic_type\": \"\",\n        \"description\": \"\"\n      }\n    },\n    {\n      \"column\": \"Gender\",\n      \"properties\": {\n        \"dtype\": \"category\",\n        \"num_unique_values\": 2,\n        \"samples\": [\n          \"Male\",\n          \"Female\"\n        ],\n        \"semantic_type\": \"\",\n        \"description\": \"\"\n      }\n    },\n    {\n      \"column\": \"Age\",\n      \"properties\": {\n        \"dtype\": \"number\",\n        \"std\": 10,\n        \"min\": 18,\n        \"max\": 92,\n        \"num_unique_values\": 70,\n        \"samples\": [\n          61,\n          42\n        ],\n        \"semantic_type\": \"\",\n        \"description\": \"\"\n      }\n    },\n    {\n      \"column\": \"Tenure\",\n      \"properties\": {\n        \"dtype\": \"number\",\n        \"std\": 2,\n        \"min\": 0,\n        \"max\": 10,\n        \"num_unique_values\": 11,\n        \"samples\": [\n          6,\n          2\n        ],\n        \"semantic_type\": \"\",\n        \"description\": \"\"\n      }\n    },\n    {\n      \"column\": \"Balance\",\n      \"properties\": {\n        \"dtype\": \"number\",\n        \"std\": 62397.40520238623,\n        \"min\": 0.0,\n        \"max\": 250898.09,\n        \"num_unique_values\": 6382,\n        \"samples\": [\n          117707.18,\n          133050.97\n        ],\n        \"semantic_type\": \"\",\n        \"description\": \"\"\n      }\n    },\n    {\n      \"column\": \"NumOfProducts\",\n      \"properties\": {\n        \"dtype\": \"number\",\n        \"std\": 0,\n        \"min\": 1,\n        \"max\": 4,\n        \"num_unique_values\": 4,\n        \"samples\": [\n          3,\n          4\n        ],\n        \"semantic_type\": \"\",\n        \"description\": \"\"\n      }\n    },\n    {\n      \"column\": \"HasCrCard\",\n      \"properties\": {\n        \"dtype\": \"number\",\n        \"std\": 0,\n        \"min\": 0,\n        \"max\": 1,\n        \"num_unique_values\": 2,\n        \"samples\": [\n          0,\n          1\n        ],\n        \"semantic_type\": \"\",\n        \"description\": \"\"\n      }\n    },\n    {\n      \"column\": \"IsActiveMember\",\n      \"properties\": {\n        \"dtype\": \"number\",\n        \"std\": 0,\n        \"min\": 0,\n        \"max\": 1,\n        \"num_unique_values\": 2,\n        \"samples\": [\n          0,\n          1\n        ],\n        \"semantic_type\": \"\",\n        \"description\": \"\"\n      }\n    },\n    {\n      \"column\": \"EstimatedSalary\",\n      \"properties\": {\n        \"dtype\": \"number\",\n        \"std\": 57510.49281769822,\n        \"min\": 11.58,\n        \"max\": 199992.48,\n        \"num_unique_values\": 9999,\n        \"samples\": [\n          100809.99,\n          95273.73\n        ],\n        \"semantic_type\": \"\",\n        \"description\": \"\"\n      }\n    },\n    {\n      \"column\": \"Exited\",\n      \"properties\": {\n        \"dtype\": \"number\",\n        \"std\": 0,\n        \"min\": 0,\n        \"max\": 1,\n        \"num_unique_values\": 2,\n        \"samples\": [\n          0,\n          1\n        ],\n        \"semantic_type\": \"\",\n        \"description\": \"\"\n      }\n    }\n  ]\n}"
            }
          },
          "metadata": {},
          "execution_count": 13
        }
      ]
    },
    {
      "cell_type": "markdown",
      "source": [
        " ## 1.4 Feature engineering"
      ],
      "metadata": {
        "id": "ZYDL7QP5A4fY"
      }
    },
    {
      "cell_type": "markdown",
      "source": [
        "### 1.4.1 Feature selection\n",
        "\n",
        " In this step, we’ll prepare the data for modeling. Notice from above that there are a number of\n",
        " columns that we wouldn’t expect to offer any predictive signal to the model. These columns include\n",
        " RowNumber, CustomerID, and Surname. We’ll drop these columns so they don’t introduce noise to\n",
        " our model."
      ],
      "metadata": {
        "id": "a4JQ-ylf7ZYj"
      }
    },
    {
      "cell_type": "markdown",
      "source": [
        " We’ll also drop the Gender column, because we don’t want our model to make predictions based\n",
        " on gender."
      ],
      "metadata": {
        "id": "1ZDpUNAsb4M8"
      }
    },
    {
      "cell_type": "code",
      "source": [
        "# Drop useless and sensitive (Gender) cols\n",
        "churn_df = df_original.drop(['RowNumber', 'CustomerId', 'Surname', 'Gender'],\n",
        "                            axis=1)\n",
        "churn_df.head()"
      ],
      "metadata": {
        "id": "FQJ6F15eb5Eo",
        "colab": {
          "base_uri": "https://localhost:8080/",
          "height": 206
        },
        "outputId": "12b48d7e-78c8-4717-93dd-271379aa7dd9"
      },
      "execution_count": 14,
      "outputs": [
        {
          "output_type": "execute_result",
          "data": {
            "text/plain": [
              "   CreditScore Geography  Age  Tenure    Balance  NumOfProducts  HasCrCard  \\\n",
              "0          619    France   42       2       0.00              1          1   \n",
              "1          608     Spain   41       1   83807.86              1          0   \n",
              "2          502    France   42       8  159660.80              3          1   \n",
              "3          699    France   39       1       0.00              2          0   \n",
              "4          850     Spain   43       2  125510.82              1          1   \n",
              "\n",
              "   IsActiveMember  EstimatedSalary  Exited  \n",
              "0               1        101348.88       1  \n",
              "1               1        112542.58       0  \n",
              "2               0        113931.57       1  \n",
              "3               0         93826.63       0  \n",
              "4               1         79084.10       0  "
            ],
            "text/html": [
              "\n",
              "  <div id=\"df-bd6f4df1-bff5-440a-9339-165f84ed9ed7\" class=\"colab-df-container\">\n",
              "    <div>\n",
              "<style scoped>\n",
              "    .dataframe tbody tr th:only-of-type {\n",
              "        vertical-align: middle;\n",
              "    }\n",
              "\n",
              "    .dataframe tbody tr th {\n",
              "        vertical-align: top;\n",
              "    }\n",
              "\n",
              "    .dataframe thead th {\n",
              "        text-align: right;\n",
              "    }\n",
              "</style>\n",
              "<table border=\"1\" class=\"dataframe\">\n",
              "  <thead>\n",
              "    <tr style=\"text-align: right;\">\n",
              "      <th></th>\n",
              "      <th>CreditScore</th>\n",
              "      <th>Geography</th>\n",
              "      <th>Age</th>\n",
              "      <th>Tenure</th>\n",
              "      <th>Balance</th>\n",
              "      <th>NumOfProducts</th>\n",
              "      <th>HasCrCard</th>\n",
              "      <th>IsActiveMember</th>\n",
              "      <th>EstimatedSalary</th>\n",
              "      <th>Exited</th>\n",
              "    </tr>\n",
              "  </thead>\n",
              "  <tbody>\n",
              "    <tr>\n",
              "      <th>0</th>\n",
              "      <td>619</td>\n",
              "      <td>France</td>\n",
              "      <td>42</td>\n",
              "      <td>2</td>\n",
              "      <td>0.00</td>\n",
              "      <td>1</td>\n",
              "      <td>1</td>\n",
              "      <td>1</td>\n",
              "      <td>101348.88</td>\n",
              "      <td>1</td>\n",
              "    </tr>\n",
              "    <tr>\n",
              "      <th>1</th>\n",
              "      <td>608</td>\n",
              "      <td>Spain</td>\n",
              "      <td>41</td>\n",
              "      <td>1</td>\n",
              "      <td>83807.86</td>\n",
              "      <td>1</td>\n",
              "      <td>0</td>\n",
              "      <td>1</td>\n",
              "      <td>112542.58</td>\n",
              "      <td>0</td>\n",
              "    </tr>\n",
              "    <tr>\n",
              "      <th>2</th>\n",
              "      <td>502</td>\n",
              "      <td>France</td>\n",
              "      <td>42</td>\n",
              "      <td>8</td>\n",
              "      <td>159660.80</td>\n",
              "      <td>3</td>\n",
              "      <td>1</td>\n",
              "      <td>0</td>\n",
              "      <td>113931.57</td>\n",
              "      <td>1</td>\n",
              "    </tr>\n",
              "    <tr>\n",
              "      <th>3</th>\n",
              "      <td>699</td>\n",
              "      <td>France</td>\n",
              "      <td>39</td>\n",
              "      <td>1</td>\n",
              "      <td>0.00</td>\n",
              "      <td>2</td>\n",
              "      <td>0</td>\n",
              "      <td>0</td>\n",
              "      <td>93826.63</td>\n",
              "      <td>0</td>\n",
              "    </tr>\n",
              "    <tr>\n",
              "      <th>4</th>\n",
              "      <td>850</td>\n",
              "      <td>Spain</td>\n",
              "      <td>43</td>\n",
              "      <td>2</td>\n",
              "      <td>125510.82</td>\n",
              "      <td>1</td>\n",
              "      <td>1</td>\n",
              "      <td>1</td>\n",
              "      <td>79084.10</td>\n",
              "      <td>0</td>\n",
              "    </tr>\n",
              "  </tbody>\n",
              "</table>\n",
              "</div>\n",
              "    <div class=\"colab-df-buttons\">\n",
              "\n",
              "  <div class=\"colab-df-container\">\n",
              "    <button class=\"colab-df-convert\" onclick=\"convertToInteractive('df-bd6f4df1-bff5-440a-9339-165f84ed9ed7')\"\n",
              "            title=\"Convert this dataframe to an interactive table.\"\n",
              "            style=\"display:none;\">\n",
              "\n",
              "  <svg xmlns=\"http://www.w3.org/2000/svg\" height=\"24px\" viewBox=\"0 -960 960 960\">\n",
              "    <path d=\"M120-120v-720h720v720H120Zm60-500h600v-160H180v160Zm220 220h160v-160H400v160Zm0 220h160v-160H400v160ZM180-400h160v-160H180v160Zm440 0h160v-160H620v160ZM180-180h160v-160H180v160Zm440 0h160v-160H620v160Z\"/>\n",
              "  </svg>\n",
              "    </button>\n",
              "\n",
              "  <style>\n",
              "    .colab-df-container {\n",
              "      display:flex;\n",
              "      gap: 12px;\n",
              "    }\n",
              "\n",
              "    .colab-df-convert {\n",
              "      background-color: #E8F0FE;\n",
              "      border: none;\n",
              "      border-radius: 50%;\n",
              "      cursor: pointer;\n",
              "      display: none;\n",
              "      fill: #1967D2;\n",
              "      height: 32px;\n",
              "      padding: 0 0 0 0;\n",
              "      width: 32px;\n",
              "    }\n",
              "\n",
              "    .colab-df-convert:hover {\n",
              "      background-color: #E2EBFA;\n",
              "      box-shadow: 0px 1px 2px rgba(60, 64, 67, 0.3), 0px 1px 3px 1px rgba(60, 64, 67, 0.15);\n",
              "      fill: #174EA6;\n",
              "    }\n",
              "\n",
              "    .colab-df-buttons div {\n",
              "      margin-bottom: 4px;\n",
              "    }\n",
              "\n",
              "    [theme=dark] .colab-df-convert {\n",
              "      background-color: #3B4455;\n",
              "      fill: #D2E3FC;\n",
              "    }\n",
              "\n",
              "    [theme=dark] .colab-df-convert:hover {\n",
              "      background-color: #434B5C;\n",
              "      box-shadow: 0px 1px 3px 1px rgba(0, 0, 0, 0.15);\n",
              "      filter: drop-shadow(0px 1px 2px rgba(0, 0, 0, 0.3));\n",
              "      fill: #FFFFFF;\n",
              "    }\n",
              "  </style>\n",
              "\n",
              "    <script>\n",
              "      const buttonEl =\n",
              "        document.querySelector('#df-bd6f4df1-bff5-440a-9339-165f84ed9ed7 button.colab-df-convert');\n",
              "      buttonEl.style.display =\n",
              "        google.colab.kernel.accessAllowed ? 'block' : 'none';\n",
              "\n",
              "      async function convertToInteractive(key) {\n",
              "        const element = document.querySelector('#df-bd6f4df1-bff5-440a-9339-165f84ed9ed7');\n",
              "        const dataTable =\n",
              "          await google.colab.kernel.invokeFunction('convertToInteractive',\n",
              "                                                    [key], {});\n",
              "        if (!dataTable) return;\n",
              "\n",
              "        const docLinkHtml = 'Like what you see? Visit the ' +\n",
              "          '<a target=\"_blank\" href=https://colab.research.google.com/notebooks/data_table.ipynb>data table notebook</a>'\n",
              "          + ' to learn more about interactive tables.';\n",
              "        element.innerHTML = '';\n",
              "        dataTable['output_type'] = 'display_data';\n",
              "        await google.colab.output.renderOutput(dataTable, element);\n",
              "        const docLink = document.createElement('div');\n",
              "        docLink.innerHTML = docLinkHtml;\n",
              "        element.appendChild(docLink);\n",
              "      }\n",
              "    </script>\n",
              "  </div>\n",
              "\n",
              "\n",
              "    <div id=\"df-25d69877-6598-4bdb-af21-985fc78f2306\">\n",
              "      <button class=\"colab-df-quickchart\" onclick=\"quickchart('df-25d69877-6598-4bdb-af21-985fc78f2306')\"\n",
              "                title=\"Suggest charts\"\n",
              "                style=\"display:none;\">\n",
              "\n",
              "<svg xmlns=\"http://www.w3.org/2000/svg\" height=\"24px\"viewBox=\"0 0 24 24\"\n",
              "     width=\"24px\">\n",
              "    <g>\n",
              "        <path d=\"M19 3H5c-1.1 0-2 .9-2 2v14c0 1.1.9 2 2 2h14c1.1 0 2-.9 2-2V5c0-1.1-.9-2-2-2zM9 17H7v-7h2v7zm4 0h-2V7h2v10zm4 0h-2v-4h2v4z\"/>\n",
              "    </g>\n",
              "</svg>\n",
              "      </button>\n",
              "\n",
              "<style>\n",
              "  .colab-df-quickchart {\n",
              "      --bg-color: #E8F0FE;\n",
              "      --fill-color: #1967D2;\n",
              "      --hover-bg-color: #E2EBFA;\n",
              "      --hover-fill-color: #174EA6;\n",
              "      --disabled-fill-color: #AAA;\n",
              "      --disabled-bg-color: #DDD;\n",
              "  }\n",
              "\n",
              "  [theme=dark] .colab-df-quickchart {\n",
              "      --bg-color: #3B4455;\n",
              "      --fill-color: #D2E3FC;\n",
              "      --hover-bg-color: #434B5C;\n",
              "      --hover-fill-color: #FFFFFF;\n",
              "      --disabled-bg-color: #3B4455;\n",
              "      --disabled-fill-color: #666;\n",
              "  }\n",
              "\n",
              "  .colab-df-quickchart {\n",
              "    background-color: var(--bg-color);\n",
              "    border: none;\n",
              "    border-radius: 50%;\n",
              "    cursor: pointer;\n",
              "    display: none;\n",
              "    fill: var(--fill-color);\n",
              "    height: 32px;\n",
              "    padding: 0;\n",
              "    width: 32px;\n",
              "  }\n",
              "\n",
              "  .colab-df-quickchart:hover {\n",
              "    background-color: var(--hover-bg-color);\n",
              "    box-shadow: 0 1px 2px rgba(60, 64, 67, 0.3), 0 1px 3px 1px rgba(60, 64, 67, 0.15);\n",
              "    fill: var(--button-hover-fill-color);\n",
              "  }\n",
              "\n",
              "  .colab-df-quickchart-complete:disabled,\n",
              "  .colab-df-quickchart-complete:disabled:hover {\n",
              "    background-color: var(--disabled-bg-color);\n",
              "    fill: var(--disabled-fill-color);\n",
              "    box-shadow: none;\n",
              "  }\n",
              "\n",
              "  .colab-df-spinner {\n",
              "    border: 2px solid var(--fill-color);\n",
              "    border-color: transparent;\n",
              "    border-bottom-color: var(--fill-color);\n",
              "    animation:\n",
              "      spin 1s steps(1) infinite;\n",
              "  }\n",
              "\n",
              "  @keyframes spin {\n",
              "    0% {\n",
              "      border-color: transparent;\n",
              "      border-bottom-color: var(--fill-color);\n",
              "      border-left-color: var(--fill-color);\n",
              "    }\n",
              "    20% {\n",
              "      border-color: transparent;\n",
              "      border-left-color: var(--fill-color);\n",
              "      border-top-color: var(--fill-color);\n",
              "    }\n",
              "    30% {\n",
              "      border-color: transparent;\n",
              "      border-left-color: var(--fill-color);\n",
              "      border-top-color: var(--fill-color);\n",
              "      border-right-color: var(--fill-color);\n",
              "    }\n",
              "    40% {\n",
              "      border-color: transparent;\n",
              "      border-right-color: var(--fill-color);\n",
              "      border-top-color: var(--fill-color);\n",
              "    }\n",
              "    60% {\n",
              "      border-color: transparent;\n",
              "      border-right-color: var(--fill-color);\n",
              "    }\n",
              "    80% {\n",
              "      border-color: transparent;\n",
              "      border-right-color: var(--fill-color);\n",
              "      border-bottom-color: var(--fill-color);\n",
              "    }\n",
              "    90% {\n",
              "      border-color: transparent;\n",
              "      border-bottom-color: var(--fill-color);\n",
              "    }\n",
              "  }\n",
              "</style>\n",
              "\n",
              "      <script>\n",
              "        async function quickchart(key) {\n",
              "          const quickchartButtonEl =\n",
              "            document.querySelector('#' + key + ' button');\n",
              "          quickchartButtonEl.disabled = true;  // To prevent multiple clicks.\n",
              "          quickchartButtonEl.classList.add('colab-df-spinner');\n",
              "          try {\n",
              "            const charts = await google.colab.kernel.invokeFunction(\n",
              "                'suggestCharts', [key], {});\n",
              "          } catch (error) {\n",
              "            console.error('Error during call to suggestCharts:', error);\n",
              "          }\n",
              "          quickchartButtonEl.classList.remove('colab-df-spinner');\n",
              "          quickchartButtonEl.classList.add('colab-df-quickchart-complete');\n",
              "        }\n",
              "        (() => {\n",
              "          let quickchartButtonEl =\n",
              "            document.querySelector('#df-25d69877-6598-4bdb-af21-985fc78f2306 button');\n",
              "          quickchartButtonEl.style.display =\n",
              "            google.colab.kernel.accessAllowed ? 'block' : 'none';\n",
              "        })();\n",
              "      </script>\n",
              "    </div>\n",
              "\n",
              "    </div>\n",
              "  </div>\n"
            ],
            "application/vnd.google.colaboratory.intrinsic+json": {
              "type": "dataframe",
              "variable_name": "churn_df",
              "summary": "{\n  \"name\": \"churn_df\",\n  \"rows\": 10000,\n  \"fields\": [\n    {\n      \"column\": \"CreditScore\",\n      \"properties\": {\n        \"dtype\": \"number\",\n        \"std\": 96,\n        \"min\": 350,\n        \"max\": 850,\n        \"num_unique_values\": 460,\n        \"samples\": [\n          754,\n          533,\n          744\n        ],\n        \"semantic_type\": \"\",\n        \"description\": \"\"\n      }\n    },\n    {\n      \"column\": \"Geography\",\n      \"properties\": {\n        \"dtype\": \"category\",\n        \"num_unique_values\": 3,\n        \"samples\": [\n          \"France\",\n          \"Spain\",\n          \"Germany\"\n        ],\n        \"semantic_type\": \"\",\n        \"description\": \"\"\n      }\n    },\n    {\n      \"column\": \"Age\",\n      \"properties\": {\n        \"dtype\": \"number\",\n        \"std\": 10,\n        \"min\": 18,\n        \"max\": 92,\n        \"num_unique_values\": 70,\n        \"samples\": [\n          61,\n          42,\n          59\n        ],\n        \"semantic_type\": \"\",\n        \"description\": \"\"\n      }\n    },\n    {\n      \"column\": \"Tenure\",\n      \"properties\": {\n        \"dtype\": \"number\",\n        \"std\": 2,\n        \"min\": 0,\n        \"max\": 10,\n        \"num_unique_values\": 11,\n        \"samples\": [\n          6,\n          2,\n          9\n        ],\n        \"semantic_type\": \"\",\n        \"description\": \"\"\n      }\n    },\n    {\n      \"column\": \"Balance\",\n      \"properties\": {\n        \"dtype\": \"number\",\n        \"std\": 62397.40520238623,\n        \"min\": 0.0,\n        \"max\": 250898.09,\n        \"num_unique_values\": 6382,\n        \"samples\": [\n          117707.18,\n          133050.97,\n          124271.26\n        ],\n        \"semantic_type\": \"\",\n        \"description\": \"\"\n      }\n    },\n    {\n      \"column\": \"NumOfProducts\",\n      \"properties\": {\n        \"dtype\": \"number\",\n        \"std\": 0,\n        \"min\": 1,\n        \"max\": 4,\n        \"num_unique_values\": 4,\n        \"samples\": [\n          3,\n          4,\n          1\n        ],\n        \"semantic_type\": \"\",\n        \"description\": \"\"\n      }\n    },\n    {\n      \"column\": \"HasCrCard\",\n      \"properties\": {\n        \"dtype\": \"number\",\n        \"std\": 0,\n        \"min\": 0,\n        \"max\": 1,\n        \"num_unique_values\": 2,\n        \"samples\": [\n          0,\n          1\n        ],\n        \"semantic_type\": \"\",\n        \"description\": \"\"\n      }\n    },\n    {\n      \"column\": \"IsActiveMember\",\n      \"properties\": {\n        \"dtype\": \"number\",\n        \"std\": 0,\n        \"min\": 0,\n        \"max\": 1,\n        \"num_unique_values\": 2,\n        \"samples\": [\n          0,\n          1\n        ],\n        \"semantic_type\": \"\",\n        \"description\": \"\"\n      }\n    },\n    {\n      \"column\": \"EstimatedSalary\",\n      \"properties\": {\n        \"dtype\": \"number\",\n        \"std\": 57510.49281769822,\n        \"min\": 11.58,\n        \"max\": 199992.48,\n        \"num_unique_values\": 9999,\n        \"samples\": [\n          100809.99,\n          95273.73\n        ],\n        \"semantic_type\": \"\",\n        \"description\": \"\"\n      }\n    },\n    {\n      \"column\": \"Exited\",\n      \"properties\": {\n        \"dtype\": \"number\",\n        \"std\": 0,\n        \"min\": 0,\n        \"max\": 1,\n        \"num_unique_values\": 2,\n        \"samples\": [\n          0,\n          1\n        ],\n        \"semantic_type\": \"\",\n        \"description\": \"\"\n      }\n    }\n  ]\n}"
            }
          },
          "metadata": {},
          "execution_count": 14
        }
      ]
    },
    {
      "cell_type": "markdown",
      "source": [
        "### 1.4.2 Feature transformation\n",
        "\n",
        " Next, we’ll dummy encode the Geography variable, which is categorical. We do this with the pd.get_dummies() function and setting drop_first='True', which replaces the Geography column with two new Boolean columns called Geography_Germany and Geography_Spain."
      ],
      "metadata": {
        "id": "Iq4WFePw74MU"
      }
    },
    {
      "cell_type": "code",
      "source": [
        "# Dummy encode categoricals\n",
        "churn_df2 = pd.get_dummies(churn_df, drop_first='True')\n",
        "churn_df2.head()"
      ],
      "metadata": {
        "id": "MPf7gj3y8POz",
        "colab": {
          "base_uri": "https://localhost:8080/",
          "height": 226
        },
        "outputId": "efd8155b-6dc5-48d2-f470-d0973f16d0df"
      },
      "execution_count": 15,
      "outputs": [
        {
          "output_type": "execute_result",
          "data": {
            "text/plain": [
              "   CreditScore  Age  Tenure    Balance  NumOfProducts  HasCrCard  \\\n",
              "0          619   42       2       0.00              1          1   \n",
              "1          608   41       1   83807.86              1          0   \n",
              "2          502   42       8  159660.80              3          1   \n",
              "3          699   39       1       0.00              2          0   \n",
              "4          850   43       2  125510.82              1          1   \n",
              "\n",
              "   IsActiveMember  EstimatedSalary  Exited  Geography_Germany  Geography_Spain  \n",
              "0               1        101348.88       1              False            False  \n",
              "1               1        112542.58       0              False             True  \n",
              "2               0        113931.57       1              False            False  \n",
              "3               0         93826.63       0              False            False  \n",
              "4               1         79084.10       0              False             True  "
            ],
            "text/html": [
              "\n",
              "  <div id=\"df-c747c57e-b8d7-46af-843c-ebe9cb7bc6b9\" class=\"colab-df-container\">\n",
              "    <div>\n",
              "<style scoped>\n",
              "    .dataframe tbody tr th:only-of-type {\n",
              "        vertical-align: middle;\n",
              "    }\n",
              "\n",
              "    .dataframe tbody tr th {\n",
              "        vertical-align: top;\n",
              "    }\n",
              "\n",
              "    .dataframe thead th {\n",
              "        text-align: right;\n",
              "    }\n",
              "</style>\n",
              "<table border=\"1\" class=\"dataframe\">\n",
              "  <thead>\n",
              "    <tr style=\"text-align: right;\">\n",
              "      <th></th>\n",
              "      <th>CreditScore</th>\n",
              "      <th>Age</th>\n",
              "      <th>Tenure</th>\n",
              "      <th>Balance</th>\n",
              "      <th>NumOfProducts</th>\n",
              "      <th>HasCrCard</th>\n",
              "      <th>IsActiveMember</th>\n",
              "      <th>EstimatedSalary</th>\n",
              "      <th>Exited</th>\n",
              "      <th>Geography_Germany</th>\n",
              "      <th>Geography_Spain</th>\n",
              "    </tr>\n",
              "  </thead>\n",
              "  <tbody>\n",
              "    <tr>\n",
              "      <th>0</th>\n",
              "      <td>619</td>\n",
              "      <td>42</td>\n",
              "      <td>2</td>\n",
              "      <td>0.00</td>\n",
              "      <td>1</td>\n",
              "      <td>1</td>\n",
              "      <td>1</td>\n",
              "      <td>101348.88</td>\n",
              "      <td>1</td>\n",
              "      <td>False</td>\n",
              "      <td>False</td>\n",
              "    </tr>\n",
              "    <tr>\n",
              "      <th>1</th>\n",
              "      <td>608</td>\n",
              "      <td>41</td>\n",
              "      <td>1</td>\n",
              "      <td>83807.86</td>\n",
              "      <td>1</td>\n",
              "      <td>0</td>\n",
              "      <td>1</td>\n",
              "      <td>112542.58</td>\n",
              "      <td>0</td>\n",
              "      <td>False</td>\n",
              "      <td>True</td>\n",
              "    </tr>\n",
              "    <tr>\n",
              "      <th>2</th>\n",
              "      <td>502</td>\n",
              "      <td>42</td>\n",
              "      <td>8</td>\n",
              "      <td>159660.80</td>\n",
              "      <td>3</td>\n",
              "      <td>1</td>\n",
              "      <td>0</td>\n",
              "      <td>113931.57</td>\n",
              "      <td>1</td>\n",
              "      <td>False</td>\n",
              "      <td>False</td>\n",
              "    </tr>\n",
              "    <tr>\n",
              "      <th>3</th>\n",
              "      <td>699</td>\n",
              "      <td>39</td>\n",
              "      <td>1</td>\n",
              "      <td>0.00</td>\n",
              "      <td>2</td>\n",
              "      <td>0</td>\n",
              "      <td>0</td>\n",
              "      <td>93826.63</td>\n",
              "      <td>0</td>\n",
              "      <td>False</td>\n",
              "      <td>False</td>\n",
              "    </tr>\n",
              "    <tr>\n",
              "      <th>4</th>\n",
              "      <td>850</td>\n",
              "      <td>43</td>\n",
              "      <td>2</td>\n",
              "      <td>125510.82</td>\n",
              "      <td>1</td>\n",
              "      <td>1</td>\n",
              "      <td>1</td>\n",
              "      <td>79084.10</td>\n",
              "      <td>0</td>\n",
              "      <td>False</td>\n",
              "      <td>True</td>\n",
              "    </tr>\n",
              "  </tbody>\n",
              "</table>\n",
              "</div>\n",
              "    <div class=\"colab-df-buttons\">\n",
              "\n",
              "  <div class=\"colab-df-container\">\n",
              "    <button class=\"colab-df-convert\" onclick=\"convertToInteractive('df-c747c57e-b8d7-46af-843c-ebe9cb7bc6b9')\"\n",
              "            title=\"Convert this dataframe to an interactive table.\"\n",
              "            style=\"display:none;\">\n",
              "\n",
              "  <svg xmlns=\"http://www.w3.org/2000/svg\" height=\"24px\" viewBox=\"0 -960 960 960\">\n",
              "    <path d=\"M120-120v-720h720v720H120Zm60-500h600v-160H180v160Zm220 220h160v-160H400v160Zm0 220h160v-160H400v160ZM180-400h160v-160H180v160Zm440 0h160v-160H620v160ZM180-180h160v-160H180v160Zm440 0h160v-160H620v160Z\"/>\n",
              "  </svg>\n",
              "    </button>\n",
              "\n",
              "  <style>\n",
              "    .colab-df-container {\n",
              "      display:flex;\n",
              "      gap: 12px;\n",
              "    }\n",
              "\n",
              "    .colab-df-convert {\n",
              "      background-color: #E8F0FE;\n",
              "      border: none;\n",
              "      border-radius: 50%;\n",
              "      cursor: pointer;\n",
              "      display: none;\n",
              "      fill: #1967D2;\n",
              "      height: 32px;\n",
              "      padding: 0 0 0 0;\n",
              "      width: 32px;\n",
              "    }\n",
              "\n",
              "    .colab-df-convert:hover {\n",
              "      background-color: #E2EBFA;\n",
              "      box-shadow: 0px 1px 2px rgba(60, 64, 67, 0.3), 0px 1px 3px 1px rgba(60, 64, 67, 0.15);\n",
              "      fill: #174EA6;\n",
              "    }\n",
              "\n",
              "    .colab-df-buttons div {\n",
              "      margin-bottom: 4px;\n",
              "    }\n",
              "\n",
              "    [theme=dark] .colab-df-convert {\n",
              "      background-color: #3B4455;\n",
              "      fill: #D2E3FC;\n",
              "    }\n",
              "\n",
              "    [theme=dark] .colab-df-convert:hover {\n",
              "      background-color: #434B5C;\n",
              "      box-shadow: 0px 1px 3px 1px rgba(0, 0, 0, 0.15);\n",
              "      filter: drop-shadow(0px 1px 2px rgba(0, 0, 0, 0.3));\n",
              "      fill: #FFFFFF;\n",
              "    }\n",
              "  </style>\n",
              "\n",
              "    <script>\n",
              "      const buttonEl =\n",
              "        document.querySelector('#df-c747c57e-b8d7-46af-843c-ebe9cb7bc6b9 button.colab-df-convert');\n",
              "      buttonEl.style.display =\n",
              "        google.colab.kernel.accessAllowed ? 'block' : 'none';\n",
              "\n",
              "      async function convertToInteractive(key) {\n",
              "        const element = document.querySelector('#df-c747c57e-b8d7-46af-843c-ebe9cb7bc6b9');\n",
              "        const dataTable =\n",
              "          await google.colab.kernel.invokeFunction('convertToInteractive',\n",
              "                                                    [key], {});\n",
              "        if (!dataTable) return;\n",
              "\n",
              "        const docLinkHtml = 'Like what you see? Visit the ' +\n",
              "          '<a target=\"_blank\" href=https://colab.research.google.com/notebooks/data_table.ipynb>data table notebook</a>'\n",
              "          + ' to learn more about interactive tables.';\n",
              "        element.innerHTML = '';\n",
              "        dataTable['output_type'] = 'display_data';\n",
              "        await google.colab.output.renderOutput(dataTable, element);\n",
              "        const docLink = document.createElement('div');\n",
              "        docLink.innerHTML = docLinkHtml;\n",
              "        element.appendChild(docLink);\n",
              "      }\n",
              "    </script>\n",
              "  </div>\n",
              "\n",
              "\n",
              "    <div id=\"df-e999e90b-054b-4414-88d1-0ad1e754b477\">\n",
              "      <button class=\"colab-df-quickchart\" onclick=\"quickchart('df-e999e90b-054b-4414-88d1-0ad1e754b477')\"\n",
              "                title=\"Suggest charts\"\n",
              "                style=\"display:none;\">\n",
              "\n",
              "<svg xmlns=\"http://www.w3.org/2000/svg\" height=\"24px\"viewBox=\"0 0 24 24\"\n",
              "     width=\"24px\">\n",
              "    <g>\n",
              "        <path d=\"M19 3H5c-1.1 0-2 .9-2 2v14c0 1.1.9 2 2 2h14c1.1 0 2-.9 2-2V5c0-1.1-.9-2-2-2zM9 17H7v-7h2v7zm4 0h-2V7h2v10zm4 0h-2v-4h2v4z\"/>\n",
              "    </g>\n",
              "</svg>\n",
              "      </button>\n",
              "\n",
              "<style>\n",
              "  .colab-df-quickchart {\n",
              "      --bg-color: #E8F0FE;\n",
              "      --fill-color: #1967D2;\n",
              "      --hover-bg-color: #E2EBFA;\n",
              "      --hover-fill-color: #174EA6;\n",
              "      --disabled-fill-color: #AAA;\n",
              "      --disabled-bg-color: #DDD;\n",
              "  }\n",
              "\n",
              "  [theme=dark] .colab-df-quickchart {\n",
              "      --bg-color: #3B4455;\n",
              "      --fill-color: #D2E3FC;\n",
              "      --hover-bg-color: #434B5C;\n",
              "      --hover-fill-color: #FFFFFF;\n",
              "      --disabled-bg-color: #3B4455;\n",
              "      --disabled-fill-color: #666;\n",
              "  }\n",
              "\n",
              "  .colab-df-quickchart {\n",
              "    background-color: var(--bg-color);\n",
              "    border: none;\n",
              "    border-radius: 50%;\n",
              "    cursor: pointer;\n",
              "    display: none;\n",
              "    fill: var(--fill-color);\n",
              "    height: 32px;\n",
              "    padding: 0;\n",
              "    width: 32px;\n",
              "  }\n",
              "\n",
              "  .colab-df-quickchart:hover {\n",
              "    background-color: var(--hover-bg-color);\n",
              "    box-shadow: 0 1px 2px rgba(60, 64, 67, 0.3), 0 1px 3px 1px rgba(60, 64, 67, 0.15);\n",
              "    fill: var(--button-hover-fill-color);\n",
              "  }\n",
              "\n",
              "  .colab-df-quickchart-complete:disabled,\n",
              "  .colab-df-quickchart-complete:disabled:hover {\n",
              "    background-color: var(--disabled-bg-color);\n",
              "    fill: var(--disabled-fill-color);\n",
              "    box-shadow: none;\n",
              "  }\n",
              "\n",
              "  .colab-df-spinner {\n",
              "    border: 2px solid var(--fill-color);\n",
              "    border-color: transparent;\n",
              "    border-bottom-color: var(--fill-color);\n",
              "    animation:\n",
              "      spin 1s steps(1) infinite;\n",
              "  }\n",
              "\n",
              "  @keyframes spin {\n",
              "    0% {\n",
              "      border-color: transparent;\n",
              "      border-bottom-color: var(--fill-color);\n",
              "      border-left-color: var(--fill-color);\n",
              "    }\n",
              "    20% {\n",
              "      border-color: transparent;\n",
              "      border-left-color: var(--fill-color);\n",
              "      border-top-color: var(--fill-color);\n",
              "    }\n",
              "    30% {\n",
              "      border-color: transparent;\n",
              "      border-left-color: var(--fill-color);\n",
              "      border-top-color: var(--fill-color);\n",
              "      border-right-color: var(--fill-color);\n",
              "    }\n",
              "    40% {\n",
              "      border-color: transparent;\n",
              "      border-right-color: var(--fill-color);\n",
              "      border-top-color: var(--fill-color);\n",
              "    }\n",
              "    60% {\n",
              "      border-color: transparent;\n",
              "      border-right-color: var(--fill-color);\n",
              "    }\n",
              "    80% {\n",
              "      border-color: transparent;\n",
              "      border-right-color: var(--fill-color);\n",
              "      border-bottom-color: var(--fill-color);\n",
              "    }\n",
              "    90% {\n",
              "      border-color: transparent;\n",
              "      border-bottom-color: var(--fill-color);\n",
              "    }\n",
              "  }\n",
              "</style>\n",
              "\n",
              "      <script>\n",
              "        async function quickchart(key) {\n",
              "          const quickchartButtonEl =\n",
              "            document.querySelector('#' + key + ' button');\n",
              "          quickchartButtonEl.disabled = true;  // To prevent multiple clicks.\n",
              "          quickchartButtonEl.classList.add('colab-df-spinner');\n",
              "          try {\n",
              "            const charts = await google.colab.kernel.invokeFunction(\n",
              "                'suggestCharts', [key], {});\n",
              "          } catch (error) {\n",
              "            console.error('Error during call to suggestCharts:', error);\n",
              "          }\n",
              "          quickchartButtonEl.classList.remove('colab-df-spinner');\n",
              "          quickchartButtonEl.classList.add('colab-df-quickchart-complete');\n",
              "        }\n",
              "        (() => {\n",
              "          let quickchartButtonEl =\n",
              "            document.querySelector('#df-e999e90b-054b-4414-88d1-0ad1e754b477 button');\n",
              "          quickchartButtonEl.style.display =\n",
              "            google.colab.kernel.accessAllowed ? 'block' : 'none';\n",
              "        })();\n",
              "      </script>\n",
              "    </div>\n",
              "\n",
              "    </div>\n",
              "  </div>\n"
            ],
            "application/vnd.google.colaboratory.intrinsic+json": {
              "type": "dataframe",
              "variable_name": "churn_df2",
              "summary": "{\n  \"name\": \"churn_df2\",\n  \"rows\": 10000,\n  \"fields\": [\n    {\n      \"column\": \"CreditScore\",\n      \"properties\": {\n        \"dtype\": \"number\",\n        \"std\": 96,\n        \"min\": 350,\n        \"max\": 850,\n        \"num_unique_values\": 460,\n        \"samples\": [\n          754,\n          533,\n          744\n        ],\n        \"semantic_type\": \"\",\n        \"description\": \"\"\n      }\n    },\n    {\n      \"column\": \"Age\",\n      \"properties\": {\n        \"dtype\": \"number\",\n        \"std\": 10,\n        \"min\": 18,\n        \"max\": 92,\n        \"num_unique_values\": 70,\n        \"samples\": [\n          61,\n          42,\n          59\n        ],\n        \"semantic_type\": \"\",\n        \"description\": \"\"\n      }\n    },\n    {\n      \"column\": \"Tenure\",\n      \"properties\": {\n        \"dtype\": \"number\",\n        \"std\": 2,\n        \"min\": 0,\n        \"max\": 10,\n        \"num_unique_values\": 11,\n        \"samples\": [\n          6,\n          2,\n          9\n        ],\n        \"semantic_type\": \"\",\n        \"description\": \"\"\n      }\n    },\n    {\n      \"column\": \"Balance\",\n      \"properties\": {\n        \"dtype\": \"number\",\n        \"std\": 62397.40520238623,\n        \"min\": 0.0,\n        \"max\": 250898.09,\n        \"num_unique_values\": 6382,\n        \"samples\": [\n          117707.18,\n          133050.97,\n          124271.26\n        ],\n        \"semantic_type\": \"\",\n        \"description\": \"\"\n      }\n    },\n    {\n      \"column\": \"NumOfProducts\",\n      \"properties\": {\n        \"dtype\": \"number\",\n        \"std\": 0,\n        \"min\": 1,\n        \"max\": 4,\n        \"num_unique_values\": 4,\n        \"samples\": [\n          3,\n          4,\n          1\n        ],\n        \"semantic_type\": \"\",\n        \"description\": \"\"\n      }\n    },\n    {\n      \"column\": \"HasCrCard\",\n      \"properties\": {\n        \"dtype\": \"number\",\n        \"std\": 0,\n        \"min\": 0,\n        \"max\": 1,\n        \"num_unique_values\": 2,\n        \"samples\": [\n          0,\n          1\n        ],\n        \"semantic_type\": \"\",\n        \"description\": \"\"\n      }\n    },\n    {\n      \"column\": \"IsActiveMember\",\n      \"properties\": {\n        \"dtype\": \"number\",\n        \"std\": 0,\n        \"min\": 0,\n        \"max\": 1,\n        \"num_unique_values\": 2,\n        \"samples\": [\n          0,\n          1\n        ],\n        \"semantic_type\": \"\",\n        \"description\": \"\"\n      }\n    },\n    {\n      \"column\": \"EstimatedSalary\",\n      \"properties\": {\n        \"dtype\": \"number\",\n        \"std\": 57510.49281769822,\n        \"min\": 11.58,\n        \"max\": 199992.48,\n        \"num_unique_values\": 9999,\n        \"samples\": [\n          100809.99,\n          95273.73\n        ],\n        \"semantic_type\": \"\",\n        \"description\": \"\"\n      }\n    },\n    {\n      \"column\": \"Exited\",\n      \"properties\": {\n        \"dtype\": \"number\",\n        \"std\": 0,\n        \"min\": 0,\n        \"max\": 1,\n        \"num_unique_values\": 2,\n        \"samples\": [\n          0,\n          1\n        ],\n        \"semantic_type\": \"\",\n        \"description\": \"\"\n      }\n    },\n    {\n      \"column\": \"Geography_Germany\",\n      \"properties\": {\n        \"dtype\": \"boolean\",\n        \"num_unique_values\": 2,\n        \"samples\": [\n          true,\n          false\n        ],\n        \"semantic_type\": \"\",\n        \"description\": \"\"\n      }\n    },\n    {\n      \"column\": \"Geography_Spain\",\n      \"properties\": {\n        \"dtype\": \"boolean\",\n        \"num_unique_values\": 2,\n        \"samples\": [\n          true,\n          false\n        ],\n        \"semantic_type\": \"\",\n        \"description\": \"\"\n      }\n    }\n  ]\n}"
            }
          },
          "metadata": {},
          "execution_count": 15
        }
      ]
    },
    {
      "cell_type": "markdown",
      "source": [
        "## 1.5 Split the data\n",
        "\n",
        "We’ll split the data into features and target variable, and into training data and test data using the train_test_split() function.\n",
        "\n",
        "Don’t forget to include the stratify=y parameter, as this is what ensures that the 80/20 class ratio of the target variable is maintained in both the training and test datasets after splitting.\n",
        "\n",
        "Lastly, we set a random seed so we and others can reproduce our work."
      ],
      "metadata": {
        "id": "xY3R1Vs38TiN"
      }
    },
    {
      "cell_type": "code",
      "source": [
        "# Define the y (target) variable\n",
        "y = churn_df2[\"Exited\"]\n",
        "# Define the X (predictor) variables\n",
        "X = churn_df2.copy()\n",
        "X = X.drop(\"Exited\", axis = 1)\n",
        "# Split into train and test sets\n",
        "X_train, X_test, y_train, y_test = train_test_split(X, y, test_size=0.25, stratify=y, random_state=42)"
      ],
      "metadata": {
        "id": "XQzuNzs-8db_"
      },
      "execution_count": 16,
      "outputs": []
    },
    {
      "cell_type": "markdown",
      "source": [
        "## 1.6 Modeling"
      ],
      "metadata": {
        "id": "XEr6GbXF8kVt"
      }
    },
    {
      "cell_type": "markdown",
      "source": [
        "### 1.6.1 Cross-validated hyperparameter tuning\n",
        "\n",
        "The cross-validation process is the same as it was for the decision tree and random forest models.\n",
        " The only difference is that we’re tuning different hyperparameters now. The steps are included\n",
        " below as a review.\n",
        "\n",
        "For details on cross-validating with GridSearchCV, refer back to the decision tree notebook, or to\n",
        " the GridSearchCV documentation in scikit-learn.\n",
        " 1. Instantiate the classifier (and set the random_state). Note here that we’ve included a pa\n",
        "rameter called objective whose value is binary:logistic. This means that the model\n",
        " is performing a binary classification task that outputs a logistic probability. The objective\n",
        " would be different for different kinds of problems—for instance, if you were trying to predict\n",
        " more than two classes or performing a linear regression on continuous data. Refer to the\n",
        " XGBoost documentation for more information.\n",
        " 2. Create a dictionary of hyperparameters to search over.\n",
        " 3. Create a dictionary of scoring metrics to capture.\n",
        " 4. Instantiate the GridSearchCV object. Pass as arguments:\n",
        "\n",
        "    • The classifier (xgb)\n",
        "\n",
        "    • The dictionary of hyperparameters to search over (cv_params)\n",
        "\n",
        "    • The dictionary of scoring metrics (scoring)\n",
        "\n",
        "    • The number of cross-validation folds you want (cv=5)\n",
        "    \n",
        "    • The scoring metric that you want GridSearch to use when it selects the “best” model (i.e., the model that performs best on average over all validation folds) (refit='f1')\n",
        "\n",
        " 5. Fit the data (X_train, y_train) to the GridSearchCV object (xgb_cv)\n",
        " Note that we use the %%time magic at the top of the cell where we fit the model. This outputs the\n",
        " final runtime of the cell."
      ],
      "metadata": {
        "id": "RclI2yX58oTW"
      }
    },
    {
      "cell_type": "code",
      "source": [
        "xgb = XGBClassifier(objective='binary:logistic', random_state=0)\n",
        "\n",
        "cv_params = {'max_depth': [4,5,6,7,8],\n",
        "             'min_child_weight': [1,2,3,4,5],\n",
        "             'learning_rate': [0.1, 0.2, 0.3],\n",
        "             'n_estimators': [75, 100, 125]\n",
        "              }\n",
        "scoring = {'accuracy': 'accuracy', 'precision': 'precision', 'recall': 'recall', 'f1': 'f1'}\n",
        "\n",
        "xgb_cv = GridSearchCV(xgb, cv_params, scoring=scoring, cv=5, refit='f1')"
      ],
      "metadata": {
        "id": "ZDC8Xq3i9OO0"
      },
      "execution_count": 17,
      "outputs": []
    },
    {
      "cell_type": "markdown",
      "source": [
        " **Note:** The following operation may take over 30 minutes to complete"
      ],
      "metadata": {
        "id": "5CLQsUOd9fKC"
      }
    },
    {
      "cell_type": "code",
      "source": [
        "%%time\n",
        "xgb_cv.fit(X_train, y_train)"
      ],
      "metadata": {
        "id": "GigrQtPi9jcy",
        "colab": {
          "base_uri": "https://localhost:8080/",
          "height": 201
        },
        "outputId": "510db88c-0f79-4495-80ff-4924dc0dc14a"
      },
      "execution_count": 18,
      "outputs": [
        {
          "output_type": "stream",
          "name": "stdout",
          "text": [
            "CPU times: user 6min 23s, sys: 3.64 s, total: 6min 26s\n",
            "Wall time: 3min 53s\n"
          ]
        },
        {
          "output_type": "execute_result",
          "data": {
            "text/plain": [
              "GridSearchCV(cv=5,\n",
              "             estimator=XGBClassifier(base_score=None, booster=None,\n",
              "                                     callbacks=None, colsample_bylevel=None,\n",
              "                                     colsample_bynode=None,\n",
              "                                     colsample_bytree=None, device=None,\n",
              "                                     early_stopping_rounds=None,\n",
              "                                     enable_categorical=False, eval_metric=None,\n",
              "                                     feature_types=None, gamma=None,\n",
              "                                     grow_policy=None, importance_type=None,\n",
              "                                     interaction_constraints=None,\n",
              "                                     learning_rate=None,...\n",
              "                                     missing=nan, monotone_constraints=None,\n",
              "                                     multi_strategy=None, n_estimators=None,\n",
              "                                     n_jobs=None, num_parallel_tree=None,\n",
              "                                     random_state=0, ...),\n",
              "             param_grid={'learning_rate': [0.1, 0.2, 0.3],\n",
              "                         'max_depth': [4, 5, 6, 7, 8],\n",
              "                         'min_child_weight': [1, 2, 3, 4, 5],\n",
              "                         'n_estimators': [75, 100, 125]},\n",
              "             refit='f1',\n",
              "             scoring={'accuracy': 'accuracy', 'f1': 'f1',\n",
              "                      'precision': 'precision', 'recall': 'recall'})"
            ],
            "text/html": [
              "<style>#sk-container-id-1 {\n",
              "  /* Definition of color scheme common for light and dark mode */\n",
              "  --sklearn-color-text: #000;\n",
              "  --sklearn-color-text-muted: #666;\n",
              "  --sklearn-color-line: gray;\n",
              "  /* Definition of color scheme for unfitted estimators */\n",
              "  --sklearn-color-unfitted-level-0: #fff5e6;\n",
              "  --sklearn-color-unfitted-level-1: #f6e4d2;\n",
              "  --sklearn-color-unfitted-level-2: #ffe0b3;\n",
              "  --sklearn-color-unfitted-level-3: chocolate;\n",
              "  /* Definition of color scheme for fitted estimators */\n",
              "  --sklearn-color-fitted-level-0: #f0f8ff;\n",
              "  --sklearn-color-fitted-level-1: #d4ebff;\n",
              "  --sklearn-color-fitted-level-2: #b3dbfd;\n",
              "  --sklearn-color-fitted-level-3: cornflowerblue;\n",
              "\n",
              "  /* Specific color for light theme */\n",
              "  --sklearn-color-text-on-default-background: var(--sg-text-color, var(--theme-code-foreground, var(--jp-content-font-color1, black)));\n",
              "  --sklearn-color-background: var(--sg-background-color, var(--theme-background, var(--jp-layout-color0, white)));\n",
              "  --sklearn-color-border-box: var(--sg-text-color, var(--theme-code-foreground, var(--jp-content-font-color1, black)));\n",
              "  --sklearn-color-icon: #696969;\n",
              "\n",
              "  @media (prefers-color-scheme: dark) {\n",
              "    /* Redefinition of color scheme for dark theme */\n",
              "    --sklearn-color-text-on-default-background: var(--sg-text-color, var(--theme-code-foreground, var(--jp-content-font-color1, white)));\n",
              "    --sklearn-color-background: var(--sg-background-color, var(--theme-background, var(--jp-layout-color0, #111)));\n",
              "    --sklearn-color-border-box: var(--sg-text-color, var(--theme-code-foreground, var(--jp-content-font-color1, white)));\n",
              "    --sklearn-color-icon: #878787;\n",
              "  }\n",
              "}\n",
              "\n",
              "#sk-container-id-1 {\n",
              "  color: var(--sklearn-color-text);\n",
              "}\n",
              "\n",
              "#sk-container-id-1 pre {\n",
              "  padding: 0;\n",
              "}\n",
              "\n",
              "#sk-container-id-1 input.sk-hidden--visually {\n",
              "  border: 0;\n",
              "  clip: rect(1px 1px 1px 1px);\n",
              "  clip: rect(1px, 1px, 1px, 1px);\n",
              "  height: 1px;\n",
              "  margin: -1px;\n",
              "  overflow: hidden;\n",
              "  padding: 0;\n",
              "  position: absolute;\n",
              "  width: 1px;\n",
              "}\n",
              "\n",
              "#sk-container-id-1 div.sk-dashed-wrapped {\n",
              "  border: 1px dashed var(--sklearn-color-line);\n",
              "  margin: 0 0.4em 0.5em 0.4em;\n",
              "  box-sizing: border-box;\n",
              "  padding-bottom: 0.4em;\n",
              "  background-color: var(--sklearn-color-background);\n",
              "}\n",
              "\n",
              "#sk-container-id-1 div.sk-container {\n",
              "  /* jupyter's `normalize.less` sets `[hidden] { display: none; }`\n",
              "     but bootstrap.min.css set `[hidden] { display: none !important; }`\n",
              "     so we also need the `!important` here to be able to override the\n",
              "     default hidden behavior on the sphinx rendered scikit-learn.org.\n",
              "     See: https://github.com/scikit-learn/scikit-learn/issues/21755 */\n",
              "  display: inline-block !important;\n",
              "  position: relative;\n",
              "}\n",
              "\n",
              "#sk-container-id-1 div.sk-text-repr-fallback {\n",
              "  display: none;\n",
              "}\n",
              "\n",
              "div.sk-parallel-item,\n",
              "div.sk-serial,\n",
              "div.sk-item {\n",
              "  /* draw centered vertical line to link estimators */\n",
              "  background-image: linear-gradient(var(--sklearn-color-text-on-default-background), var(--sklearn-color-text-on-default-background));\n",
              "  background-size: 2px 100%;\n",
              "  background-repeat: no-repeat;\n",
              "  background-position: center center;\n",
              "}\n",
              "\n",
              "/* Parallel-specific style estimator block */\n",
              "\n",
              "#sk-container-id-1 div.sk-parallel-item::after {\n",
              "  content: \"\";\n",
              "  width: 100%;\n",
              "  border-bottom: 2px solid var(--sklearn-color-text-on-default-background);\n",
              "  flex-grow: 1;\n",
              "}\n",
              "\n",
              "#sk-container-id-1 div.sk-parallel {\n",
              "  display: flex;\n",
              "  align-items: stretch;\n",
              "  justify-content: center;\n",
              "  background-color: var(--sklearn-color-background);\n",
              "  position: relative;\n",
              "}\n",
              "\n",
              "#sk-container-id-1 div.sk-parallel-item {\n",
              "  display: flex;\n",
              "  flex-direction: column;\n",
              "}\n",
              "\n",
              "#sk-container-id-1 div.sk-parallel-item:first-child::after {\n",
              "  align-self: flex-end;\n",
              "  width: 50%;\n",
              "}\n",
              "\n",
              "#sk-container-id-1 div.sk-parallel-item:last-child::after {\n",
              "  align-self: flex-start;\n",
              "  width: 50%;\n",
              "}\n",
              "\n",
              "#sk-container-id-1 div.sk-parallel-item:only-child::after {\n",
              "  width: 0;\n",
              "}\n",
              "\n",
              "/* Serial-specific style estimator block */\n",
              "\n",
              "#sk-container-id-1 div.sk-serial {\n",
              "  display: flex;\n",
              "  flex-direction: column;\n",
              "  align-items: center;\n",
              "  background-color: var(--sklearn-color-background);\n",
              "  padding-right: 1em;\n",
              "  padding-left: 1em;\n",
              "}\n",
              "\n",
              "\n",
              "/* Toggleable style: style used for estimator/Pipeline/ColumnTransformer box that is\n",
              "clickable and can be expanded/collapsed.\n",
              "- Pipeline and ColumnTransformer use this feature and define the default style\n",
              "- Estimators will overwrite some part of the style using the `sk-estimator` class\n",
              "*/\n",
              "\n",
              "/* Pipeline and ColumnTransformer style (default) */\n",
              "\n",
              "#sk-container-id-1 div.sk-toggleable {\n",
              "  /* Default theme specific background. It is overwritten whether we have a\n",
              "  specific estimator or a Pipeline/ColumnTransformer */\n",
              "  background-color: var(--sklearn-color-background);\n",
              "}\n",
              "\n",
              "/* Toggleable label */\n",
              "#sk-container-id-1 label.sk-toggleable__label {\n",
              "  cursor: pointer;\n",
              "  display: flex;\n",
              "  width: 100%;\n",
              "  margin-bottom: 0;\n",
              "  padding: 0.5em;\n",
              "  box-sizing: border-box;\n",
              "  text-align: center;\n",
              "  align-items: start;\n",
              "  justify-content: space-between;\n",
              "  gap: 0.5em;\n",
              "}\n",
              "\n",
              "#sk-container-id-1 label.sk-toggleable__label .caption {\n",
              "  font-size: 0.6rem;\n",
              "  font-weight: lighter;\n",
              "  color: var(--sklearn-color-text-muted);\n",
              "}\n",
              "\n",
              "#sk-container-id-1 label.sk-toggleable__label-arrow:before {\n",
              "  /* Arrow on the left of the label */\n",
              "  content: \"▸\";\n",
              "  float: left;\n",
              "  margin-right: 0.25em;\n",
              "  color: var(--sklearn-color-icon);\n",
              "}\n",
              "\n",
              "#sk-container-id-1 label.sk-toggleable__label-arrow:hover:before {\n",
              "  color: var(--sklearn-color-text);\n",
              "}\n",
              "\n",
              "/* Toggleable content - dropdown */\n",
              "\n",
              "#sk-container-id-1 div.sk-toggleable__content {\n",
              "  max-height: 0;\n",
              "  max-width: 0;\n",
              "  overflow: hidden;\n",
              "  text-align: left;\n",
              "  /* unfitted */\n",
              "  background-color: var(--sklearn-color-unfitted-level-0);\n",
              "}\n",
              "\n",
              "#sk-container-id-1 div.sk-toggleable__content.fitted {\n",
              "  /* fitted */\n",
              "  background-color: var(--sklearn-color-fitted-level-0);\n",
              "}\n",
              "\n",
              "#sk-container-id-1 div.sk-toggleable__content pre {\n",
              "  margin: 0.2em;\n",
              "  border-radius: 0.25em;\n",
              "  color: var(--sklearn-color-text);\n",
              "  /* unfitted */\n",
              "  background-color: var(--sklearn-color-unfitted-level-0);\n",
              "}\n",
              "\n",
              "#sk-container-id-1 div.sk-toggleable__content.fitted pre {\n",
              "  /* unfitted */\n",
              "  background-color: var(--sklearn-color-fitted-level-0);\n",
              "}\n",
              "\n",
              "#sk-container-id-1 input.sk-toggleable__control:checked~div.sk-toggleable__content {\n",
              "  /* Expand drop-down */\n",
              "  max-height: 200px;\n",
              "  max-width: 100%;\n",
              "  overflow: auto;\n",
              "}\n",
              "\n",
              "#sk-container-id-1 input.sk-toggleable__control:checked~label.sk-toggleable__label-arrow:before {\n",
              "  content: \"▾\";\n",
              "}\n",
              "\n",
              "/* Pipeline/ColumnTransformer-specific style */\n",
              "\n",
              "#sk-container-id-1 div.sk-label input.sk-toggleable__control:checked~label.sk-toggleable__label {\n",
              "  color: var(--sklearn-color-text);\n",
              "  background-color: var(--sklearn-color-unfitted-level-2);\n",
              "}\n",
              "\n",
              "#sk-container-id-1 div.sk-label.fitted input.sk-toggleable__control:checked~label.sk-toggleable__label {\n",
              "  background-color: var(--sklearn-color-fitted-level-2);\n",
              "}\n",
              "\n",
              "/* Estimator-specific style */\n",
              "\n",
              "/* Colorize estimator box */\n",
              "#sk-container-id-1 div.sk-estimator input.sk-toggleable__control:checked~label.sk-toggleable__label {\n",
              "  /* unfitted */\n",
              "  background-color: var(--sklearn-color-unfitted-level-2);\n",
              "}\n",
              "\n",
              "#sk-container-id-1 div.sk-estimator.fitted input.sk-toggleable__control:checked~label.sk-toggleable__label {\n",
              "  /* fitted */\n",
              "  background-color: var(--sklearn-color-fitted-level-2);\n",
              "}\n",
              "\n",
              "#sk-container-id-1 div.sk-label label.sk-toggleable__label,\n",
              "#sk-container-id-1 div.sk-label label {\n",
              "  /* The background is the default theme color */\n",
              "  color: var(--sklearn-color-text-on-default-background);\n",
              "}\n",
              "\n",
              "/* On hover, darken the color of the background */\n",
              "#sk-container-id-1 div.sk-label:hover label.sk-toggleable__label {\n",
              "  color: var(--sklearn-color-text);\n",
              "  background-color: var(--sklearn-color-unfitted-level-2);\n",
              "}\n",
              "\n",
              "/* Label box, darken color on hover, fitted */\n",
              "#sk-container-id-1 div.sk-label.fitted:hover label.sk-toggleable__label.fitted {\n",
              "  color: var(--sklearn-color-text);\n",
              "  background-color: var(--sklearn-color-fitted-level-2);\n",
              "}\n",
              "\n",
              "/* Estimator label */\n",
              "\n",
              "#sk-container-id-1 div.sk-label label {\n",
              "  font-family: monospace;\n",
              "  font-weight: bold;\n",
              "  display: inline-block;\n",
              "  line-height: 1.2em;\n",
              "}\n",
              "\n",
              "#sk-container-id-1 div.sk-label-container {\n",
              "  text-align: center;\n",
              "}\n",
              "\n",
              "/* Estimator-specific */\n",
              "#sk-container-id-1 div.sk-estimator {\n",
              "  font-family: monospace;\n",
              "  border: 1px dotted var(--sklearn-color-border-box);\n",
              "  border-radius: 0.25em;\n",
              "  box-sizing: border-box;\n",
              "  margin-bottom: 0.5em;\n",
              "  /* unfitted */\n",
              "  background-color: var(--sklearn-color-unfitted-level-0);\n",
              "}\n",
              "\n",
              "#sk-container-id-1 div.sk-estimator.fitted {\n",
              "  /* fitted */\n",
              "  background-color: var(--sklearn-color-fitted-level-0);\n",
              "}\n",
              "\n",
              "/* on hover */\n",
              "#sk-container-id-1 div.sk-estimator:hover {\n",
              "  /* unfitted */\n",
              "  background-color: var(--sklearn-color-unfitted-level-2);\n",
              "}\n",
              "\n",
              "#sk-container-id-1 div.sk-estimator.fitted:hover {\n",
              "  /* fitted */\n",
              "  background-color: var(--sklearn-color-fitted-level-2);\n",
              "}\n",
              "\n",
              "/* Specification for estimator info (e.g. \"i\" and \"?\") */\n",
              "\n",
              "/* Common style for \"i\" and \"?\" */\n",
              "\n",
              ".sk-estimator-doc-link,\n",
              "a:link.sk-estimator-doc-link,\n",
              "a:visited.sk-estimator-doc-link {\n",
              "  float: right;\n",
              "  font-size: smaller;\n",
              "  line-height: 1em;\n",
              "  font-family: monospace;\n",
              "  background-color: var(--sklearn-color-background);\n",
              "  border-radius: 1em;\n",
              "  height: 1em;\n",
              "  width: 1em;\n",
              "  text-decoration: none !important;\n",
              "  margin-left: 0.5em;\n",
              "  text-align: center;\n",
              "  /* unfitted */\n",
              "  border: var(--sklearn-color-unfitted-level-1) 1pt solid;\n",
              "  color: var(--sklearn-color-unfitted-level-1);\n",
              "}\n",
              "\n",
              ".sk-estimator-doc-link.fitted,\n",
              "a:link.sk-estimator-doc-link.fitted,\n",
              "a:visited.sk-estimator-doc-link.fitted {\n",
              "  /* fitted */\n",
              "  border: var(--sklearn-color-fitted-level-1) 1pt solid;\n",
              "  color: var(--sklearn-color-fitted-level-1);\n",
              "}\n",
              "\n",
              "/* On hover */\n",
              "div.sk-estimator:hover .sk-estimator-doc-link:hover,\n",
              ".sk-estimator-doc-link:hover,\n",
              "div.sk-label-container:hover .sk-estimator-doc-link:hover,\n",
              ".sk-estimator-doc-link:hover {\n",
              "  /* unfitted */\n",
              "  background-color: var(--sklearn-color-unfitted-level-3);\n",
              "  color: var(--sklearn-color-background);\n",
              "  text-decoration: none;\n",
              "}\n",
              "\n",
              "div.sk-estimator.fitted:hover .sk-estimator-doc-link.fitted:hover,\n",
              ".sk-estimator-doc-link.fitted:hover,\n",
              "div.sk-label-container:hover .sk-estimator-doc-link.fitted:hover,\n",
              ".sk-estimator-doc-link.fitted:hover {\n",
              "  /* fitted */\n",
              "  background-color: var(--sklearn-color-fitted-level-3);\n",
              "  color: var(--sklearn-color-background);\n",
              "  text-decoration: none;\n",
              "}\n",
              "\n",
              "/* Span, style for the box shown on hovering the info icon */\n",
              ".sk-estimator-doc-link span {\n",
              "  display: none;\n",
              "  z-index: 9999;\n",
              "  position: relative;\n",
              "  font-weight: normal;\n",
              "  right: .2ex;\n",
              "  padding: .5ex;\n",
              "  margin: .5ex;\n",
              "  width: min-content;\n",
              "  min-width: 20ex;\n",
              "  max-width: 50ex;\n",
              "  color: var(--sklearn-color-text);\n",
              "  box-shadow: 2pt 2pt 4pt #999;\n",
              "  /* unfitted */\n",
              "  background: var(--sklearn-color-unfitted-level-0);\n",
              "  border: .5pt solid var(--sklearn-color-unfitted-level-3);\n",
              "}\n",
              "\n",
              ".sk-estimator-doc-link.fitted span {\n",
              "  /* fitted */\n",
              "  background: var(--sklearn-color-fitted-level-0);\n",
              "  border: var(--sklearn-color-fitted-level-3);\n",
              "}\n",
              "\n",
              ".sk-estimator-doc-link:hover span {\n",
              "  display: block;\n",
              "}\n",
              "\n",
              "/* \"?\"-specific style due to the `<a>` HTML tag */\n",
              "\n",
              "#sk-container-id-1 a.estimator_doc_link {\n",
              "  float: right;\n",
              "  font-size: 1rem;\n",
              "  line-height: 1em;\n",
              "  font-family: monospace;\n",
              "  background-color: var(--sklearn-color-background);\n",
              "  border-radius: 1rem;\n",
              "  height: 1rem;\n",
              "  width: 1rem;\n",
              "  text-decoration: none;\n",
              "  /* unfitted */\n",
              "  color: var(--sklearn-color-unfitted-level-1);\n",
              "  border: var(--sklearn-color-unfitted-level-1) 1pt solid;\n",
              "}\n",
              "\n",
              "#sk-container-id-1 a.estimator_doc_link.fitted {\n",
              "  /* fitted */\n",
              "  border: var(--sklearn-color-fitted-level-1) 1pt solid;\n",
              "  color: var(--sklearn-color-fitted-level-1);\n",
              "}\n",
              "\n",
              "/* On hover */\n",
              "#sk-container-id-1 a.estimator_doc_link:hover {\n",
              "  /* unfitted */\n",
              "  background-color: var(--sklearn-color-unfitted-level-3);\n",
              "  color: var(--sklearn-color-background);\n",
              "  text-decoration: none;\n",
              "}\n",
              "\n",
              "#sk-container-id-1 a.estimator_doc_link.fitted:hover {\n",
              "  /* fitted */\n",
              "  background-color: var(--sklearn-color-fitted-level-3);\n",
              "}\n",
              "</style><div id=\"sk-container-id-1\" class=\"sk-top-container\"><div class=\"sk-text-repr-fallback\"><pre>GridSearchCV(cv=5,\n",
              "             estimator=XGBClassifier(base_score=None, booster=None,\n",
              "                                     callbacks=None, colsample_bylevel=None,\n",
              "                                     colsample_bynode=None,\n",
              "                                     colsample_bytree=None, device=None,\n",
              "                                     early_stopping_rounds=None,\n",
              "                                     enable_categorical=False, eval_metric=None,\n",
              "                                     feature_types=None, gamma=None,\n",
              "                                     grow_policy=None, importance_type=None,\n",
              "                                     interaction_constraints=None,\n",
              "                                     learning_rate=None,...\n",
              "                                     missing=nan, monotone_constraints=None,\n",
              "                                     multi_strategy=None, n_estimators=None,\n",
              "                                     n_jobs=None, num_parallel_tree=None,\n",
              "                                     random_state=0, ...),\n",
              "             param_grid={&#x27;learning_rate&#x27;: [0.1, 0.2, 0.3],\n",
              "                         &#x27;max_depth&#x27;: [4, 5, 6, 7, 8],\n",
              "                         &#x27;min_child_weight&#x27;: [1, 2, 3, 4, 5],\n",
              "                         &#x27;n_estimators&#x27;: [75, 100, 125]},\n",
              "             refit=&#x27;f1&#x27;,\n",
              "             scoring={&#x27;accuracy&#x27;: &#x27;accuracy&#x27;, &#x27;f1&#x27;: &#x27;f1&#x27;,\n",
              "                      &#x27;precision&#x27;: &#x27;precision&#x27;, &#x27;recall&#x27;: &#x27;recall&#x27;})</pre><b>In a Jupyter environment, please rerun this cell to show the HTML representation or trust the notebook. <br />On GitHub, the HTML representation is unable to render, please try loading this page with nbviewer.org.</b></div><div class=\"sk-container\" hidden><div class=\"sk-item sk-dashed-wrapped\"><div class=\"sk-label-container\"><div class=\"sk-label fitted sk-toggleable\"><input class=\"sk-toggleable__control sk-hidden--visually\" id=\"sk-estimator-id-1\" type=\"checkbox\" ><label for=\"sk-estimator-id-1\" class=\"sk-toggleable__label fitted sk-toggleable__label-arrow\"><div><div>GridSearchCV</div></div><div><a class=\"sk-estimator-doc-link fitted\" rel=\"noreferrer\" target=\"_blank\" href=\"https://scikit-learn.org/1.6/modules/generated/sklearn.model_selection.GridSearchCV.html\">?<span>Documentation for GridSearchCV</span></a><span class=\"sk-estimator-doc-link fitted\">i<span>Fitted</span></span></div></label><div class=\"sk-toggleable__content fitted\"><pre>GridSearchCV(cv=5,\n",
              "             estimator=XGBClassifier(base_score=None, booster=None,\n",
              "                                     callbacks=None, colsample_bylevel=None,\n",
              "                                     colsample_bynode=None,\n",
              "                                     colsample_bytree=None, device=None,\n",
              "                                     early_stopping_rounds=None,\n",
              "                                     enable_categorical=False, eval_metric=None,\n",
              "                                     feature_types=None, gamma=None,\n",
              "                                     grow_policy=None, importance_type=None,\n",
              "                                     interaction_constraints=None,\n",
              "                                     learning_rate=None,...\n",
              "                                     missing=nan, monotone_constraints=None,\n",
              "                                     multi_strategy=None, n_estimators=None,\n",
              "                                     n_jobs=None, num_parallel_tree=None,\n",
              "                                     random_state=0, ...),\n",
              "             param_grid={&#x27;learning_rate&#x27;: [0.1, 0.2, 0.3],\n",
              "                         &#x27;max_depth&#x27;: [4, 5, 6, 7, 8],\n",
              "                         &#x27;min_child_weight&#x27;: [1, 2, 3, 4, 5],\n",
              "                         &#x27;n_estimators&#x27;: [75, 100, 125]},\n",
              "             refit=&#x27;f1&#x27;,\n",
              "             scoring={&#x27;accuracy&#x27;: &#x27;accuracy&#x27;, &#x27;f1&#x27;: &#x27;f1&#x27;,\n",
              "                      &#x27;precision&#x27;: &#x27;precision&#x27;, &#x27;recall&#x27;: &#x27;recall&#x27;})</pre></div> </div></div><div class=\"sk-parallel\"><div class=\"sk-parallel-item\"><div class=\"sk-item\"><div class=\"sk-label-container\"><div class=\"sk-label fitted sk-toggleable\"><input class=\"sk-toggleable__control sk-hidden--visually\" id=\"sk-estimator-id-2\" type=\"checkbox\" ><label for=\"sk-estimator-id-2\" class=\"sk-toggleable__label fitted sk-toggleable__label-arrow\"><div><div>best_estimator_: XGBClassifier</div></div></label><div class=\"sk-toggleable__content fitted\"><pre>XGBClassifier(base_score=None, booster=None, callbacks=None,\n",
              "              colsample_bylevel=None, colsample_bynode=None,\n",
              "              colsample_bytree=None, device=None, early_stopping_rounds=None,\n",
              "              enable_categorical=False, eval_metric=None, feature_types=None,\n",
              "              gamma=None, grow_policy=None, importance_type=None,\n",
              "              interaction_constraints=None, learning_rate=0.1, max_bin=None,\n",
              "              max_cat_threshold=None, max_cat_to_onehot=None,\n",
              "              max_delta_step=None, max_depth=4, max_leaves=None,\n",
              "              min_child_weight=2, missing=nan, monotone_constraints=None,\n",
              "              multi_strategy=None, n_estimators=100, n_jobs=None,\n",
              "              num_parallel_tree=None, random_state=0, ...)</pre></div> </div></div><div class=\"sk-serial\"><div class=\"sk-item\"><div class=\"sk-estimator fitted sk-toggleable\"><input class=\"sk-toggleable__control sk-hidden--visually\" id=\"sk-estimator-id-3\" type=\"checkbox\" ><label for=\"sk-estimator-id-3\" class=\"sk-toggleable__label fitted sk-toggleable__label-arrow\"><div><div>XGBClassifier</div></div></label><div class=\"sk-toggleable__content fitted\"><pre>XGBClassifier(base_score=None, booster=None, callbacks=None,\n",
              "              colsample_bylevel=None, colsample_bynode=None,\n",
              "              colsample_bytree=None, device=None, early_stopping_rounds=None,\n",
              "              enable_categorical=False, eval_metric=None, feature_types=None,\n",
              "              gamma=None, grow_policy=None, importance_type=None,\n",
              "              interaction_constraints=None, learning_rate=0.1, max_bin=None,\n",
              "              max_cat_threshold=None, max_cat_to_onehot=None,\n",
              "              max_delta_step=None, max_depth=4, max_leaves=None,\n",
              "              min_child_weight=2, missing=nan, monotone_constraints=None,\n",
              "              multi_strategy=None, n_estimators=100, n_jobs=None,\n",
              "              num_parallel_tree=None, random_state=0, ...)</pre></div> </div></div></div></div></div></div></div></div></div>"
            ]
          },
          "metadata": {},
          "execution_count": 18
        }
      ]
    },
    {
      "cell_type": "markdown",
      "source": [
        " ## 1.7 Pickle\n",
        "\n",
        " We’ll pickle the model so we don’t have to refit it every time we run this notebook. Remember,\n",
        " there are three steps:\n",
        " 1. Define the path to the location where it will save\n",
        " 2. Write the file (i.e., save the model)\n",
        " 3. Read the model back in"
      ],
      "metadata": {
        "id": "GGpf47PM9i6O"
      }
    },
    {
      "cell_type": "code",
      "source": [
        "path = '/content/'"
      ],
      "metadata": {
        "id": "-JD7yBtw9sBu"
      },
      "execution_count": 19,
      "outputs": []
    },
    {
      "cell_type": "code",
      "source": [
        "# Pickle the model\n",
        "with open(path + 'xgb_cv_model.pickle', 'wb') as to_write:\n",
        "     pickle.dump(xgb_cv, to_write)"
      ],
      "metadata": {
        "id": "WjXa4PDS92Yy"
      },
      "execution_count": 20,
      "outputs": []
    },
    {
      "cell_type": "code",
      "source": [
        "# Open pickled model\n",
        "with open(path+'xgb_cv_model.pickle', 'rb') as to_read:\n",
        "     xgb_cv = pickle.load(to_read)"
      ],
      "metadata": {
        "id": "ObAz1efg98v2"
      },
      "execution_count": 21,
      "outputs": []
    },
    {
      "cell_type": "markdown",
      "source": [
        "Don’t forget to go back and comment out the line of code where you fit the model and the code\n",
        " that writes the pickle!\n",
        "\n",
        "Let’s check our model’s score and compare it to our random forest’s score on the same cross\n",
        "validated train data. We’ll have to import the pickled random forest model. This is where pickling\n",
        " comes in handy!"
      ],
      "metadata": {
        "id": "2UcsBXFd-EzX"
      }
    },
    {
      "cell_type": "code",
      "source": [
        "# Open pickled random forest model\n",
        "with open(path +'rf_cv_model.pickle', 'rb') as to_read:\n",
        "  rf_cv = pickle.load(to_read)\n",
        "\n",
        "rf_cv.fit(X_train, y_train)\n",
        "\n",
        "print('F1 score random forest CV: ', rf_cv.best_score_)\n",
        "print('F1 score XGB CV: ', xgb_cv.best_score_)"
      ],
      "metadata": {
        "id": "oVvEF3tU-IdI"
      },
      "execution_count": null,
      "outputs": []
    },
    {
      "cell_type": "markdown",
      "source": [
        "We’ll use the same helper function we used in previous notebooks to organize our results into a\n",
        " dataframe."
      ],
      "metadata": {
        "id": "NirhcxXA-SXS"
      }
    },
    {
      "cell_type": "code",
      "source": [
        "def make_results(model_name, model_object):\n",
        " '''\n",
        " Accepts as arguments a model name (your choice- string) and\n",
        " a fit GridSearchCV model object.\n",
        " Returns a pandas df with the F1, recall, precision, and accuracy scores\n",
        " for the model with the best mean F1 score across all validation folds.\n",
        " '''\n",
        " # Get all the results from the CV and put them in a df\n",
        " cv_results = pd.DataFrame(model_object.cv_results_)\n",
        "\n",
        " # Isolate the row of the df with the max(mean f1 score)\n",
        " best_estimator_results = cv_results.iloc[cv_results['mean_test_f1'].idxmax(), :]\n",
        "\n",
        " # Extract accuracy, precision, recall, and f1 score from that row\n",
        " f1 = best_estimator_results.mean_test_f1\n",
        " recall = best_estimator_results.mean_test_recall\n",
        " precision = best_estimator_results.mean_test_precision\n",
        " accuracy = best_estimator_results.mean_test_accuracy\n",
        "\n",
        " # Create table of results\n",
        " table = pd.DataFrame({'Model': [model_name],\n",
        "                      'F1': [f1],\n",
        "                      'Recall': [recall],\n",
        "                      'Precision': [precision],\n",
        "                      'Accuracy': [accuracy]\n",
        "                      }\n",
        "                      )\n",
        " return table"
      ],
      "metadata": {
        "id": "kDJooAaq-VWA"
      },
      "execution_count": null,
      "outputs": []
    },
    {
      "cell_type": "code",
      "source": [
        "# Create xgb model results table\n",
        "xgb_cv_results = make_results('XGBoost CV', xgb_cv)\n",
        "xgb_cv_results"
      ],
      "metadata": {
        "id": "khtAhWdn-2gj"
      },
      "execution_count": null,
      "outputs": []
    },
    {
      "cell_type": "markdown",
      "source": [
        "Now we’ll read back in the master results table from the last notebook and concatenate it with the\n",
        " results we just created above."
      ],
      "metadata": {
        "id": "dbF13lMD-50F"
      }
    },
    {
      "cell_type": "code",
      "source": [
        "# Read in master results table\n",
        "results = pd.read_csv(path+'results2.csv')\n",
        "\n",
        "# Concatentate xgb model results table with master results table\n",
        "results = pd.concat([xgb_cv_results, results]).sort_values(by=['F1'],\n",
        "ascending=False)\n",
        "results"
      ],
      "metadata": {
        "id": "o1n7bSH_-8Rt"
      },
      "execution_count": null,
      "outputs": []
    },
    {
      "cell_type": "markdown",
      "source": [
        "## 1.8 Model selection and final results\n"
      ],
      "metadata": {
        "id": "IlSc-JoY_ESu"
      }
    },
    {
      "cell_type": "markdown",
      "source": [
        "### 1.8.1 Predicting on the test data\n",
        "\n",
        "We’re ready to select a champion model! Based on the above table, it’s clear that our XGBoost\n",
        " model has the top F1 score on the validation data by a small margin.\n",
        " Since we won’t be building any more models, we can at last use our champion model (XGBoost)\n",
        " to predict on the test data."
      ],
      "metadata": {
        "id": "n4bqt_8w_JRy"
      }
    },
    {
      "cell_type": "code",
      "source": [
        "# Predict on test data\n",
        "xgb_cv_preds = xgb_cv.predict(X_test)\n",
        "print('F1 score final XGB model: ', f1_score(y_test, xgb_cv_preds))\n",
        "print('Recall score final XGB model: ', recall_score(y_test, xgb_cv_preds))\n",
        "print('Precision score final XGB model: ', precision_score(y_test,xgb_cv_preds))\n",
        "print('Accuracy score final XGB model: ', accuracy_score(y_test, xgb_cv_preds))"
      ],
      "metadata": {
        "id": "sZDWCDQw_Uwo"
      },
      "execution_count": null,
      "outputs": []
    },
    {
      "cell_type": "markdown",
      "source": [
        "Wow! The final model performed even better on the test data than it did on the validation data. This is unusual. Typically, performance on test data is a little worse than on validation data. Butthe difference here is small, so it’s not cause for concern.\n",
        "\n",
        "Let’s check our confusion matrix.\n",
        "\n",
        "### 1.8.2 Confusion matrix"
      ],
      "metadata": {
        "id": "LoaFhgId_e9s"
      }
    },
    {
      "cell_type": "code",
      "source": [
        "# Create helper function to plot confusion matrix\n",
        "def conf_matrix_plot(model, x_data, y_data):\n",
        " '''\n",
        " Accepts as argument model object, X data (test or validate), and y data (test or validate).\n",
        " Returns a plot of confusion matrix for predictions on y data.\n",
        " '''\n",
        " model_pred = model.predict(x_data)\n",
        " cm = confusion_matrix(y_data, model_pred, labels=model.classes_)\n",
        " disp = ConfusionMatrixDisplay(confusion_matrix=cm,\n",
        "                               display_labels=model.classes_)\n",
        " disp.plot()\n",
        " plt.show()"
      ],
      "metadata": {
        "id": "Gk2O4Jb-_n-C"
      },
      "execution_count": null,
      "outputs": []
    },
    {
      "cell_type": "code",
      "source": [
        "conf_matrix_plot(xgb_cv, X_test, y_test)"
      ],
      "metadata": {
        "id": "w-aNs14H_yfM"
      },
      "execution_count": null,
      "outputs": []
    },
    {
      "cell_type": "markdown",
      "source": [
        "From the 2,500 people in our test data, there are 509 customers who left the bank. Of those, our\n",
        " model captures 256. The confusion matrix indicates that, when the model makes an error, it’s\n",
        " usually a Type II error—it gives a false negative by failing to predict that a customer will leave.\n",
        " On the other hand, it makes far fewer Type I errors, which are false positives.\n",
        "\n",
        " Ultimately, whether these results are acceptable depends on the costs of the measures taken to\n",
        " prevent a customer from leaving versus the value of retaining them. In this case, bank leaders may\n",
        " decide that they’d rather have more true positives, even if it means also capturing significantly\n",
        " more false positives. If so, perhaps optimizing the models based on their F1 scores is insufficient.\n",
        " Maybe we’d prioritize a different evaluation metric.\n",
        "\n",
        " One way to modify the decision-making without retraining the model is to adjust the threshold at\n",
        " which the model predicts a positive response. In other words, the model determines a probability\n",
        " that a given customer will churn. By default, if that probability is ￿ 0.50, then the model will\n",
        " label that customer as churned. Probabilities of < 0.50 would designate a non-responder. But\n",
        " it’s possible to adjust this decision threshold. For instance, if we set the threshold to 0.25, then\n",
        " the model would label customers with predicted probabilities ￿ 0.25 as churned, and those with\n",
        " probabilities < 0.25 as not churned. This would increase the recall of the model, but decrease the\n",
        " accuracy.\n",
        "\n",
        " In any case, what is certain is that our model helps the bank. Consider the results if decision-makers\n",
        " had done nothing. In that case, they’d expect to lose 509 customers. Alternatively, they could\n",
        " give everybody an incentive to stay. That would cost the bank for each of the 2,500 customers in\n",
        " our test set. Finally, the bank could give incentives at random—say, by flipping a coin. Doing this\n",
        " would incentivize about the same number of true responders as our model selects. But the bank\n",
        " would lose a lot of money offering the incentives to people who aren’t likely to leave, and our model is very good at identifying these customers.\n",
        "\n",
        "### 1.8.3 Feature importance\n",
        "\n",
        "The XGBoost library has a function called plot_importance, which we imported at the beginning\n",
        " of this notebook. This let’s us check the features selected by the model as the most predictive. We\n",
        " can create a plot by calling this function and passing to it the best estimator from our grid search."
      ],
      "metadata": {
        "id": "Bw5CHNdY_1Ti"
      }
    },
    {
      "cell_type": "code",
      "source": [
        "plot_importance(xgb_cv.best_estimator_);"
      ],
      "metadata": {
        "id": "mRKHQfB6AHf-"
      },
      "execution_count": null,
      "outputs": []
    },
    {
      "cell_type": "markdown",
      "source": [
        "This tells us that the four most important features used by our model were EstimatedSalary,\n",
        " Balance, CreditScore, and Age. This is very useful information. In a full project, we’d go back\n",
        " and examine these features very closely to understand how and why they are affecting churn.\n",
        "\n",
        " At this point, it would also be a good idea to go back and add the model predictions and Gender\n",
        " feature to each sample in our data. Then we could examine how evenly the model distributes its\n",
        " error across reported gender identities.\n",
        "\n",
        " *Areminder about modeling trade-offs\n",
        "\n",
        " Remember, the decision to use only the champion model to predict on the test data comes with\n",
        " a trade-off. The benefit is that we get a true idea of how we’d expect the model to perform on\n",
        " new, unseen data. The cost of this decision is that, by using the validation scores to both tune\n",
        " hyperparamters and select the champion model, we run the risk of selecting the model that most\n",
        " overfit the validation data.\n",
        "\n",
        " Alternatively, we could have selected our champion model by using all of our tuned models to\n",
        " predict on the test data and choosing the one that performed best. That also would have come with a trade-off. There wouldn’t be as much risk of overfitting to the validation data, but by using\n",
        " the test data to select our champion model, we wouldn’t get a truly objective idea of how the model\n",
        " would perform on new, unseen data. We would need a new dataset for that, which means we would\n",
        " have had to set more data aside at the beginning, resulting in less data to use to train the model.\n",
        "\n",
        " With sufficient data, a more rigorous approach would be:\n",
        "\n",
        " 1. Split the data into training, validation, and test sets\n",
        " 2. Tune hyperparameters using cross-validation on the training set\n",
        " 3. Use all tuned models to predict on the validation set\n",
        " 4. Select a champion model based on performance on the validation set\n",
        " 5. Use champion model alone to predict on test data\n",
        "\n",
        " Every modeling decision comes with a trade-off. What’s most important is that you’re aware of\n",
        " the trade-offs and apply the best reasoning to the task at hand."
      ],
      "metadata": {
        "id": "wOXOzcBAAKJv"
      }
    },
    {
      "cell_type": "markdown",
      "source": [
        "# Exemplar_Build an XGBoost model"
      ],
      "metadata": {
        "id": "m0frI7uxgXUn"
      }
    },
    {
      "cell_type": "markdown",
      "source": [
        "## 1.1 Introduction\n",
        "\n",
        "In this activity, you’ll build on the skills and techniques you learned in the decision tree and random\n",
        " forest lessons to construct your own XGBoost classification model. The XGBoost model is a very\n",
        " powerful extension of decision trees, so having a strong working familiarity with this process will\n",
        " strengthen your skills and resume as a data professional.\n",
        "\n",
        " This activity is a continuation of the airlines project in which you built decision tree and random\n",
        " forest models. You will use the same data, but this time you will train, tune, and evaluate an\n",
        " XGBoost model. You’ll then compare the performance of all three models and decide which model\n",
        " is best. Finally, you’ll explore the feature importances of your model and identify the features that\n",
        " most contribute to customer satisfaction."
      ],
      "metadata": {
        "id": "6kTrY4xTgiRK"
      }
    },
    {
      "cell_type": "markdown",
      "source": [
        "## 1.2 Step 1: Imports"
      ],
      "metadata": {
        "id": "V_6Iq6w6gsO0"
      }
    },
    {
      "cell_type": "markdown",
      "source": [
        "### 1.2.1 Import packages\n",
        "Begin with your import statements. First, import pandas, numpy, and matplotlib for data prepa\n",
        "ration. Next, import scikit-learn (sklearn) for model preparation and evaluation. Then, import\n",
        " xgboost, which provides the classification algorithm you’ll implement to formulate your predictive\n",
        " model."
      ],
      "metadata": {
        "id": "I2H7R0vUhGA7"
      }
    },
    {
      "cell_type": "code",
      "source": [
        "# Import relevant libraries and modules.\n",
        "import numpy as np\n",
        "import pandas as pd\n",
        "import matplotlib as plt\n",
        "import pickle\n",
        "from sklearn.model_selection import train_test_split\n",
        "from sklearn.model_selection import GridSearchCV\n",
        "from sklearn import metrics\n",
        "from xgboost import XGBClassifier\n",
        "from xgboost import plot_importance"
      ],
      "metadata": {
        "id": "cYhpyA1OhLjt"
      },
      "execution_count": null,
      "outputs": []
    },
    {
      "cell_type": "markdown",
      "source": [
        "### 1.2.2 Load the dataset\n",
        "\n",
        " To formulate your model, pandas is used to import a csv of airline passenger satisfaction data\n",
        " called Invistico_Airline.csv. This DataFrame is called airline_data. As shown in this cell,\n",
        " the dataset has been automatically loaded in for you. You do not need to download the .csv file, or\n",
        " provide more code, in order to access the dataset and proceed with this lab. Please continue with\n",
        " this activity by completing the following instructions."
      ],
      "metadata": {
        "id": "2g11INJihRU1"
      }
    },
    {
      "cell_type": "code",
      "source": [
        "# RUN THIS CELL TO IMPORT YOUR DATA.\n",
        "airline_data = pd.read_csv('Invistico_Airline.csv', on_bad_lines='skip')"
      ],
      "metadata": {
        "id": "x4ZUsmVBhVfR"
      },
      "execution_count": null,
      "outputs": []
    },
    {
      "cell_type": "markdown",
      "source": [
        "### 1.2.3 Display the data\n",
        "\n",
        "Examine the first 10 rows of data to familiarize yourself with the dataset."
      ],
      "metadata": {
        "id": "D_l48W59haHy"
      }
    },
    {
      "cell_type": "code",
      "source": [
        "# Display first ten rows of data.\n",
        "\n",
        "airline_data.head(10)"
      ],
      "metadata": {
        "id": "6CBwg47The7k"
      },
      "execution_count": null,
      "outputs": []
    },
    {
      "cell_type": "markdown",
      "source": [
        "### 1.2.4 Display the data type for each column\n",
        "\n",
        " Next, observe the types of data present within this dataset."
      ],
      "metadata": {
        "id": "j7IcNyPPhjzB"
      }
    },
    {
      "cell_type": "code",
      "source": [
        "# Display the data type for each column in your DataFrame.\n",
        "\n",
        "airline_data.dtypes"
      ],
      "metadata": {
        "id": "QPKE_E5Whqmo"
      },
      "execution_count": null,
      "outputs": []
    },
    {
      "cell_type": "markdown",
      "source": [
        "**Question:** Identify the target (or predicted) variable for passenger satisfaction. What is your\n",
        " initial hypothesis about which variables will be valuable in predicting satisfaction?\n",
        "\n",
        "    • satisfaction represents the classification variable to be predicted.\n",
        "    • Many of these variables seem like meaningful predictors of satisfaction. In particular, delays (either departure or arrival) may be negatively correlated with satisfaction."
      ],
      "metadata": {
        "id": "lJW47l9ohv_S"
      }
    },
    {
      "cell_type": "markdown",
      "source": [
        "## 1.3 Step 2: Model preparation\n",
        "\n",
        "Before you proceed with modeling, consider which metrics you will ultimately want to leverage to\n",
        " evaluate your model.\n",
        "\n",
        "**Question:** Which metrics are most suited to evaluating this type of model?\n",
        "\n",
        " • As this is a binary classfication problem, it will be important to evaluate not just accuracy,\n",
        " but the balance of false positives and false negatives that the model’s predictions provide.\n",
        " Therefore, precision, recall, and ultimately the F1 score will be excellent metrics to use.\n",
        "\n",
        " • The ROC AUC (Area Under the Receiver Operating Characteristic) score is also suited to\n",
        " this type of modeling."
      ],
      "metadata": {
        "id": "FBuoj0gChpQp"
      }
    },
    {
      "cell_type": "markdown",
      "source": [
        "### 1.3.1 Prepare your data for predictions\n",
        "\n",
        " You may have noticed when previewing your data that there are several non-numerical variables\n",
        " (object data types) within the dataset.\n",
        "\n",
        " To prepare this DataFrame for modeling, first convert these variables into a numerical format."
      ],
      "metadata": {
        "id": "v3zWOeMUh-1n"
      }
    },
    {
      "cell_type": "code",
      "source": [
        "# Convert the object predictor variables to numerical dummies.\n",
        "airline_data_dummies = pd.get_dummies(airline_data,\n",
        "columns=['satisfaction','Customer␣ Type','Type of Travel','Class'])"
      ],
      "metadata": {
        "id": "lTcSGZaRiDud"
      },
      "execution_count": null,
      "outputs": []
    },
    {
      "cell_type": "markdown",
      "source": [
        "### 1.3.2 Isolate your target and predictor variables\n",
        "\n",
        " Separately define the target variable (satisfaction) and the features."
      ],
      "metadata": {
        "id": "dLHcTtnLiKRp"
      }
    },
    {
      "cell_type": "code",
      "source": [
        "# Define the y (target) variable.\n",
        "y = airline_data_dummies['satisfaction_satisfied']\n",
        "\n",
        "# Define the X (predictor) variables.\n",
        "X = airline_data_dummies.drop(['satisfaction_satisfied','satisfaction_dissatisfied'], axis = 1)"
      ],
      "metadata": {
        "id": "361RxTOsiN0B"
      },
      "execution_count": null,
      "outputs": []
    },
    {
      "cell_type": "markdown",
      "source": [
        "### 1.3.3 Divide your data\n",
        "\n",
        " Divide your data into a training set (75% of the data) and test set (25% of the data). This is an\n",
        " important step in the process, as it allows you to reserve a part of the data that the model has not\n",
        " used to test how well the model generalizes (or performs) on new data."
      ],
      "metadata": {
        "id": "RbbSXDPuiVGo"
      }
    },
    {
      "cell_type": "code",
      "source": [
        "# Perform the split operation on your data.\n",
        "# Assign the outputs as follows: X_train, X_test, y_train, y_test.\n",
        "\n",
        "X_train, X_test, y_train, y_test = train_test_split(X, y, test_size = 0.25,random_state = 0)"
      ],
      "metadata": {
        "id": "7FI7a8AtiZOf"
      },
      "execution_count": null,
      "outputs": []
    },
    {
      "cell_type": "markdown",
      "source": [
        "## 1.4 Step 3: Model building"
      ],
      "metadata": {
        "id": "0jNUs5jkieLG"
      }
    },
    {
      "cell_type": "markdown",
      "source": [
        "### 1.4.1 “Instantiate” your XGBClassifer\n",
        "\n",
        " Before you fit your model to your airline dataset, first create the XGB Classifier model and define\n",
        " its objective. You’ll use this model to fit and score different hyperparameters during the GridSearch\n",
        " cross-validation process."
      ],
      "metadata": {
        "id": "3ieS3ogNiggD"
      }
    },
    {
      "cell_type": "code",
      "source": [
        "# Define xgb to be your XGBClassifier.\n",
        "xgb = XGBClassifier(objective='binary:logistic', random_state=0)"
      ],
      "metadata": {
        "id": "Fru_upinikM_"
      },
      "execution_count": null,
      "outputs": []
    },
    {
      "cell_type": "markdown",
      "source": [
        "### 1.4.2 Define the parameters for hyperparameter tuning\n",
        "\n",
        " To identify suitable parameters for your xgboost model, first define the parameters for hyper\n",
        "parameter tuning. Specifically, consider tuning max_depth, min_child_weight, learning_rate,\n",
        " n_estimators, subsample, and/or colsample_bytree.\n",
        " Consider a more limited range for each hyperparameter to allow for timely iteration and model\n",
        " training. For example, using a single possible value for each of the six hyperparameters listed\n",
        " above will take approximately one minute to run on this platform.\n",
        "\n",
        " {\n",
        "    'max_depth': [4],'min_child_weight': [3],'learning_rate': [0.1],'n_estimators': [5],'subsample': [0.7],\n",
        "    'colsample_bytree': [0.7]\n",
        "\n",
        " }\n",
        "\n",
        " If you add just one new option, for example by changing max_depth: [4] to max_depth: [3, 6],\n",
        " and keep everything else the same, you can expect the run time to approximately double. If you\n",
        " use two possibilities for each hyperparameter, the run time would extend to ~1 hour."
      ],
      "metadata": {
        "id": "NEgIxKThiooR"
      }
    },
    {
      "cell_type": "code",
      "source": [
        "# Define parameters for tuning as `cv_params`.\n",
        "\n",
        "# NOTE! This cell will take a long time to run. Only uncomment and run it if you have the processing\n",
        "# power or patience to wait. Otherwise, scroll to see results.\n",
        "\n",
        " cv_params = {'max_depth': [4, 6],\n",
        "              'min_child_weight': [3, 5],\n",
        "              'learning_rate': [0.1, 0.2, 0.3],\n",
        "              'n_estimators': [5,10,15],\n",
        "              'subsample': [0.7],\n",
        "              'colsample_bytree': [0.7]\n",
        "              }"
      ],
      "metadata": {
        "id": "zOqA9ueWi_cL"
      },
      "execution_count": null,
      "outputs": []
    },
    {
      "cell_type": "markdown",
      "source": [
        "**Question:** What is the likely effect of adding more estimators to your GridSearch?\n",
        " • More estimators will initially improve the model’s performance. However, increasing the\n",
        " number of estimators will also considerably increase the time spent during the GridSearch\n",
        " process, and there will be diminishing returns as the number of estimators continues to\n",
        " increase."
      ],
      "metadata": {
        "id": "F5Cx1NryjcSm"
      }
    },
    {
      "cell_type": "markdown",
      "source": [
        "### 1.4.3 Define how the models will be evaluated\n",
        "\n",
        " Define howthemodelswill be evaluated for hyperparameter tuning. To yield the best understanding\n",
        " of model performance, utilize a suite of metrics."
      ],
      "metadata": {
        "id": "zWEFpaugjo6t"
      }
    },
    {
      "cell_type": "code",
      "source": [
        "# Define your criteria as `scoring`.\n",
        "scoring = {'accuracy', 'precision', 'recall', 'f1'}"
      ],
      "metadata": {
        "id": "pNrj4QL-juW6"
      },
      "execution_count": null,
      "outputs": []
    },
    {
      "cell_type": "markdown",
      "source": [
        "### 1.4.4 Construct the GridSearch cross-validation\n",
        "\n",
        " Construct the GridSearch cross-validation using the model, parameters, and scoring metrics you\n",
        " defined. Additionally, define the number of folds and specify which metric from above will guide\n",
        " the refit strategy."
      ],
      "metadata": {
        "id": "GhMlqoMGjxrb"
      }
    },
    {
      "cell_type": "code",
      "source": [
        "# Construct your GridSearch.\n",
        "xgb_cv = GridSearchCV(xgb,\n",
        "                      cv_params,\n",
        "                      scoring = scoring,\n",
        "                      cv = 5,\n",
        "                      refit = 'f1'\n",
        "                      )"
      ],
      "metadata": {
        "id": "9rwn4ouaj36Z"
      },
      "execution_count": null,
      "outputs": []
    },
    {
      "cell_type": "markdown",
      "source": [
        "### 1.4.5 Fit the GridSearch model to your training data\n",
        "\n",
        " If your GridSearch takes too long, revisit the parameter ranges above and consider narrowing the\n",
        " range and reducing the number of estimators.\n",
        " Note: The following cell might take several minutes to run."
      ],
      "metadata": {
        "id": "KfnHPt7QkFsM"
      }
    },
    {
      "cell_type": "code",
      "source": [
        "%%time\n",
        "# fit the GridSearch model to training data\n",
        "\n",
        "xgb_cv = xgb_cv.fit(X_train, y_train)\n",
        "xgb_cv"
      ],
      "metadata": {
        "id": "IXRKL-_akJwK"
      },
      "execution_count": null,
      "outputs": []
    },
    {
      "cell_type": "markdown",
      "source": [
        "**Question:** Which optimal set of parameters did the GridSearch yield?\n",
        " Through accessing the best_params_ attribute of the fitted GridSearch model, the optimal set of\n",
        " hyperparameters was:\n",
        " {'colsample_bytree': 0.7, 'learning_rate': 0.3, 'max_depth': 6,\n",
        " 'min_child_weight': 5, 'n_estimators': 15, 'subsample': 0.7}\n",
        "\n",
        "**Note:** Your results may vary from this example response."
      ],
      "metadata": {
        "id": "Z6Kr8xfxkPn5"
      }
    },
    {
      "cell_type": "markdown",
      "source": [
        "### 1.4.6 Save your model for reference using pickle\n",
        "\n",
        " Use the pickle library you’ve already imported to save the output of this model."
      ],
      "metadata": {
        "id": "5foQT7R3kWle"
      }
    },
    {
      "cell_type": "code",
      "source": [
        "# Use `pickle` to save the trained model.\n",
        "pickle.dump(xgb_cv, open('xgb_cv.sav', 'wb'))"
      ],
      "metadata": {
        "id": "KJKO-chckbub"
      },
      "execution_count": null,
      "outputs": []
    },
    {
      "cell_type": "markdown",
      "source": [
        "## 1.5 Step 4: Results and evaluation"
      ],
      "metadata": {
        "id": "it5gaBCGklXT"
      }
    },
    {
      "cell_type": "markdown",
      "source": [
        "### 1.5.1 Formulate predictions on your test set\n",
        " To evaluate the predictions yielded from your model, leverage a series of metrics and evaluation\n",
        " techniques from scikit-learn by examining the actual observed values in the test set relative to your\n",
        " model’s prediction.\n",
        " First, use your trained model to formulate predictions on your test set."
      ],
      "metadata": {
        "id": "QDEMZWFEkgIq"
      }
    },
    {
      "cell_type": "code",
      "source": [
        "# Apply your model to predict on your test data. Call this output \"y_pred\".\n",
        "y_pred = xgb_cv.predict(X_test)"
      ],
      "metadata": {
        "id": "HuOpetGqkqGa"
      },
      "execution_count": null,
      "outputs": []
    },
    {
      "cell_type": "markdown",
      "source": [
        "### 1.5.2 Leverage metrics to evaluate your model’s performance\n",
        "\n",
        " Apply a series of metrics from scikit-learn to assess your model. Specifically, print the accuracy\n",
        " score, precision score, recall score, and f1 score associated with your test data and predicted values."
      ],
      "metadata": {
        "id": "Yu5RyHJkkv1L"
      }
    },
    {
      "cell_type": "code",
      "source": [
        "# 1. Print your accuracy score.\n",
        "ac_score = metrics.accuracy_score(y_test, y_pred)\n",
        "print('accuracy score:', ac_score)\n",
        "\n",
        "# 2. Print your precision score.\n",
        "pc_score = metrics.precision_score(y_test, y_pred)\n",
        "print('precision score:', pc_score)\n",
        "\n",
        "# 3. Print your recall score.\n",
        "rc_score = metrics.recall_score(y_test, y_pred)\n",
        "print('recall score:', rc_score)\n",
        "\n",
        "# 4. Print your f1 score.\n",
        "f1_score = metrics.f1_score(y_test, y_pred)\n",
        "print('f1 score:', f1_score)"
      ],
      "metadata": {
        "id": "2yVjdIlZkzp4"
      },
      "execution_count": null,
      "outputs": []
    },
    {
      "cell_type": "markdown",
      "source": [
        "**Question:** How should you interpret your accuracy score?\n",
        " The accuracy score for this model is 0.939, or 93.9% accurate.\n",
        "\n",
        "**Question:** Is your accuracy score alone sufficient to evaluate your model?\n",
        "\n",
        "In classification problems, accuracy is useful to know but may not be the best metric to evaluate this model.\n",
        " Question: When observing the precision and recall scores of your model, how do you interpret\n",
        " these values, and is one more accurate than the other?\n",
        " Precision and recall scores are both useful to evaluate the correct predictive capability of the model\n",
        " because they balance the false positives and false negatives inherent in prediction. The model\n",
        " shows a precision score of 0.948, suggesting the model is very good at predicting true positives.\n",
        " This means the model correctly predicts whether the airline passenger will be satisfied. The recall\n",
        " score of 0.940 is also very good. This means that the model does a good job of correctly identifying\n",
        " dissatisfied passengers within the dataset. These two metrics combined give a better assessment of\n",
        " model performance than the accuracy metric does alone.\n",
        "\n",
        "**Question:** What does your model’s F1 score tell you, beyond what the other metrics provide?*\n",
        " The F1 score balances the precision and recall performance to give a combined assessment of how\n",
        " well this model delivers predictions. In this case, the F1 score is 0.944, which suggests very strong\n",
        " predictive power in this model."
      ],
      "metadata": {
        "id": "WeEhtlVLlAFr"
      }
    },
    {
      "cell_type": "markdown",
      "source": [
        "### 1.5.3 Gain clarity with the confusion matrix\n",
        "\n",
        " Recall that a confusion matrix is a graphic that shows a model’s true and false positives and\n",
        " true and false negatives. It helps to create a visual representation of the components feeding into\n",
        " the metrics above.\n",
        " Create a confusion matrix based on your predicted values for the test set."
      ],
      "metadata": {
        "id": "CPsaRvZHlZEs"
      }
    },
    {
      "cell_type": "code",
      "source": [
        "# Construct and display your confusion matrix.\n",
        "# Construct the confusion matrix for your predicted and test values.\n",
        "cm = metrics.confusion_matrix(y_test, y_pred)\n",
        "# Create the display for your confusion matrix.\n",
        "\n",
        "# Plot the visual in-line.\n",
        "disp = metrics.ConfusionMatrixDisplay(confusion_matrix=cm, display_labels=xgb_cv.classes_)\n",
        "disp.plot()"
      ],
      "metadata": {
        "id": "a2hXXW-fldIb"
      },
      "execution_count": null,
      "outputs": []
    },
    {
      "cell_type": "markdown",
      "source": [
        " **Question:** When observing your confusion matrix, what do you notice? Does this correlate to any\n",
        " of your other calculations?\n",
        " The top left to bottom right diagonal in the confusion matrix represents the correct predictions,\n",
        " and the ratio of these squares showcases the accuracy.\n",
        " Additionally, the concentration of true positives and true negatives stands out relative to false\n",
        " positives and false negatives, respectively. This ratio is why the precision score is so high (0.944)."
      ],
      "metadata": {
        "id": "XBTOmf-Xln02"
      }
    },
    {
      "cell_type": "markdown",
      "source": [
        "### 1.5.4 Visualize most important features\n",
        "\n",
        " xgboost has a built-in function to visualize the relative importance of the features in the model\n",
        " using matplotlib. Output and examine the feature importance of your model."
      ],
      "metadata": {
        "id": "4owPGT5ulrrH"
      }
    },
    {
      "cell_type": "code",
      "source": [
        "# Plot the relative feature importance of the predictor variables in your model.\n",
        "plot_importance(xgb_cv.best_estimator_)"
      ],
      "metadata": {
        "id": "q91JhNi1l6Ly"
      },
      "execution_count": null,
      "outputs": []
    },
    {
      "cell_type": "markdown",
      "source": [
        "**Question:** Examine the feature importances outputted above. What is your assessment of the\n",
        " result? Did anything surprise you?\n",
        "\n",
        "    • Byawide margin, “seat comfort” rated as most important in the model.The type of seating is very different between first class and coach seating. However, the perks of being in first.\n",
        "    class also go beyond the seating type, so perhaps that is an underlying explanation of this feature’s importance.\n",
        "    • Surprisingly, delays (both arrival and departure) did not score as highly important."
      ],
      "metadata": {
        "id": "iYUUI3jQl_Lc"
      }
    },
    {
      "cell_type": "markdown",
      "source": [
        "### 1.5.5 Compare models\n",
        "\n",
        " Create a table of results to compare model performance."
      ],
      "metadata": {
        "id": "Hlrdem9omKDz"
      }
    },
    {
      "cell_type": "code",
      "source": [
        "# Create a table of results to compare model performance.\n",
        "\n",
        "table = pd.DataFrame({'Model': [\"Tuned Decision Tree\", \"Tuned Random Forest\",\"Tuned XGBoost\"],\n",
        "                      'F1': [0.945422, 0.947306, f1_score],\n",
        "                      'Recall': [0.935863, 0.944501, rc_score],\n",
        "                      'Precision': [0.955197, 0.950128, pc_score],\n",
        "                      'Accuracy': [0.940864, 0.942450, ac_score]\n",
        "                      }\n",
        "                    )\n",
        "table"
      ],
      "metadata": {
        "id": "ngvkvuQjmOmL"
      },
      "execution_count": null,
      "outputs": []
    },
    {
      "cell_type": "markdown",
      "source": [
        "**Question:** How does this model compare to the decision tree and random forest models you built\n",
        " in previous labs?\n",
        "\n",
        " Based on the results shown in the table above, the F1, precision, recall, and accuracy scores of\n",
        " the XGBoost model are similar to the corresponding scores of the decision tree and random forest\n",
        " models. The random forest model seemed to outperform the decision tree model as well as the\n",
        " XGBoost model."
      ],
      "metadata": {
        "id": "XqiSBhJ-manS"
      }
    },
    {
      "cell_type": "markdown",
      "source": [
        "## 1.6 Considerations\n",
        "\n",
        " **What are some key takeaways you learned from this lab?** - The evaluation of the model\n",
        " is important to inform if the model has delivered accurate predictions.- Splitting the data is\n",
        " important for ensuring that there is new data for the model to test its predictive performance.\n",
        "Each metric provides an evaluation from a different standpoint, and accuracy alone is not a strong\n",
        " way to evaluate a model.- Effective assessments balance the true/false positives versus true/false\n",
        " negatives through the confusion matrix and F1 score.\n",
        "\n",
        "**How would you share your findings with your team?** - Showcase the data used to create the\n",
        " prediction and the performance of the model overall.- Review the sample output of the features\n",
        " 16\n",
        "and the confusion matrix to reference the model’s performance.- Highlight the metric values,\n",
        " emphasizing the F1 score.- Visualize the feature importance to showcase what drove the model’s\n",
        " predictions.\n",
        "\n",
        "**What would you share with and recommend to stakeholders?** -Themodelcreatedishighly\n",
        " effective at predicting passenger satisfaction.- The feature importance of seat comfort warrants\n",
        " additional investigation. It will be important to ask domain experts why they believe this feature\n",
        " scores so highly in this model."
      ],
      "metadata": {
        "id": "UFv2ZemjmgZk"
      }
    }
  ]
}